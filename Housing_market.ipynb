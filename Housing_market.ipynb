{
 "cells": [
  {
   "cell_type": "code",
   "execution_count": 7,
   "metadata": {},
   "outputs": [
    {
     "data": {
      "text/html": [
       "<div>\n",
       "<style scoped>\n",
       "    .dataframe tbody tr th:only-of-type {\n",
       "        vertical-align: middle;\n",
       "    }\n",
       "\n",
       "    .dataframe tbody tr th {\n",
       "        vertical-align: top;\n",
       "    }\n",
       "\n",
       "    .dataframe thead th {\n",
       "        text-align: right;\n",
       "    }\n",
       "</style>\n",
       "<table border=\"1\" class=\"dataframe\">\n",
       "  <thead>\n",
       "    <tr style=\"text-align: right;\">\n",
       "      <th></th>\n",
       "      <th>location</th>\n",
       "      <th>Título_URL</th>\n",
       "      <th>Imagen</th>\n",
       "      <th>price</th>\n",
       "      <th>bedrooms</th>\n",
       "      <th>bathrooms</th>\n",
       "      <th>Etiqueta</th>\n",
       "      <th>Latitud</th>\n",
       "      <th>Longitud</th>\n",
       "      <th>region</th>\n",
       "      <th>block</th>\n",
       "      <th>city</th>\n",
       "      <th>province</th>\n",
       "      <th>number</th>\n",
       "      <th>download_date</th>\n",
       "      <th>area</th>\n",
       "      <th>normal_payment</th>\n",
       "      <th>stress_payment</th>\n",
       "      <th>budget</th>\n",
       "    </tr>\n",
       "  </thead>\n",
       "  <tbody>\n",
       "    <tr>\n",
       "      <th>0</th>\n",
       "      <td>183 Nordstrom Drive, Winnipeg, Manitoba</td>\n",
       "      <td>https://www.realtor.ca/real-estate/26154463/18...</td>\n",
       "      <td>https://cdn.realtor.ca/listings/TS638325441657...</td>\n",
       "      <td>599,900.00</td>\n",
       "      <td>5.00</td>\n",
       "      <td>4.00</td>\n",
       "      <td>15 min ago</td>\n",
       "      <td>49.83</td>\n",
       "      <td>-97.05</td>\n",
       "      <td>Sureste</td>\n",
       "      <td>Nordstrom Drive</td>\n",
       "      <td>Winnipeg</td>\n",
       "      <td>Manitoba</td>\n",
       "      <td>183</td>\n",
       "      <td>2023-10-12</td>\n",
       "      <td>island-lakes</td>\n",
       "      <td>3,391.97</td>\n",
       "      <td>14,818.54</td>\n",
       "      <td>under</td>\n",
       "    </tr>\n",
       "    <tr>\n",
       "      <th>1</th>\n",
       "      <td>344 Riverton Avenue, Winnipeg, Manitoba</td>\n",
       "      <td>https://www.realtor.ca/real-estate/26154462/34...</td>\n",
       "      <td>https://cdn.realtor.ca/listings/TS638325441656...</td>\n",
       "      <td>139,900.00</td>\n",
       "      <td>2.00</td>\n",
       "      <td>2.00</td>\n",
       "      <td>15 min ago</td>\n",
       "      <td>49.91</td>\n",
       "      <td>-97.12</td>\n",
       "      <td>Noreste</td>\n",
       "      <td>Riverton Avenue</td>\n",
       "      <td>Winnipeg</td>\n",
       "      <td>Manitoba</td>\n",
       "      <td>344</td>\n",
       "      <td>2023-10-12</td>\n",
       "      <td>elmwood</td>\n",
       "      <td>791.03</td>\n",
       "      <td>3,455.76</td>\n",
       "      <td>below</td>\n",
       "    </tr>\n",
       "    <tr>\n",
       "      <th>2</th>\n",
       "      <td>94 Bridgeland Drive S, Winnipeg, Manitoba</td>\n",
       "      <td>https://www.realtor.ca/real-estate/26154460/94...</td>\n",
       "      <td>https://cdn.realtor.ca/listings/TS638325441615...</td>\n",
       "      <td>739,900.00</td>\n",
       "      <td>2.00</td>\n",
       "      <td>2.00</td>\n",
       "      <td>15 min ago</td>\n",
       "      <td>49.80</td>\n",
       "      <td>-97.18</td>\n",
       "      <td>Suroeste</td>\n",
       "      <td>Bridgeland Drive S</td>\n",
       "      <td>Winnipeg</td>\n",
       "      <td>Manitoba</td>\n",
       "      <td>94</td>\n",
       "      <td>2023-10-12</td>\n",
       "      <td>bridgwater-lakes</td>\n",
       "      <td>4,183.57</td>\n",
       "      <td>18,276.77</td>\n",
       "      <td>under</td>\n",
       "    </tr>\n",
       "    <tr>\n",
       "      <th>3</th>\n",
       "      <td>6 409 Oakdale Drive, Winnipeg, Manitoba</td>\n",
       "      <td>https://www.realtor.ca/real-estate/26154459/6-...</td>\n",
       "      <td>https://cdn.realtor.ca/listings/TS638325441280...</td>\n",
       "      <td>134,900.00</td>\n",
       "      <td>1.00</td>\n",
       "      <td>1.00</td>\n",
       "      <td>15 min ago</td>\n",
       "      <td>49.86</td>\n",
       "      <td>-97.27</td>\n",
       "      <td>Suroeste</td>\n",
       "      <td>Oakdale Drive</td>\n",
       "      <td>Winnipeg</td>\n",
       "      <td>Manitoba</td>\n",
       "      <td>6 409</td>\n",
       "      <td>2023-10-12</td>\n",
       "      <td>charleswood</td>\n",
       "      <td>762.76</td>\n",
       "      <td>3,332.26</td>\n",
       "      <td>below</td>\n",
       "    </tr>\n",
       "    <tr>\n",
       "      <th>4</th>\n",
       "      <td>57 Blackmore Avenue, Winnipeg, Manitoba</td>\n",
       "      <td>https://www.realtor.ca/real-estate/26154450/57...</td>\n",
       "      <td>https://cdn.realtor.ca/listings/TS638325441591...</td>\n",
       "      <td>284,900.00</td>\n",
       "      <td>2.00</td>\n",
       "      <td>1.00</td>\n",
       "      <td>17 min ago</td>\n",
       "      <td>49.82</td>\n",
       "      <td>-97.14</td>\n",
       "      <td>Sureste</td>\n",
       "      <td>Blackmore Avenue</td>\n",
       "      <td>Winnipeg</td>\n",
       "      <td>Manitoba</td>\n",
       "      <td>57</td>\n",
       "      <td>2023-10-12</td>\n",
       "      <td>bright-oaks</td>\n",
       "      <td>1,610.89</td>\n",
       "      <td>7,037.51</td>\n",
       "      <td>under</td>\n",
       "    </tr>\n",
       "    <tr>\n",
       "      <th>...</th>\n",
       "      <td>...</td>\n",
       "      <td>...</td>\n",
       "      <td>...</td>\n",
       "      <td>...</td>\n",
       "      <td>...</td>\n",
       "      <td>...</td>\n",
       "      <td>...</td>\n",
       "      <td>...</td>\n",
       "      <td>...</td>\n",
       "      <td>...</td>\n",
       "      <td>...</td>\n",
       "      <td>...</td>\n",
       "      <td>...</td>\n",
       "      <td>...</td>\n",
       "      <td>...</td>\n",
       "      <td>...</td>\n",
       "      <td>...</td>\n",
       "      <td>...</td>\n",
       "      <td>...</td>\n",
       "    </tr>\n",
       "    <tr>\n",
       "      <th>591</th>\n",
       "      <td>12 1424 Dakota Street, Winnipeg, Manitoba</td>\n",
       "      <td>https://www.realtor.ca/real-estate/26092895/12...</td>\n",
       "      <td>https://cdn.realtor.ca/listings/TS638310068093...</td>\n",
       "      <td>199,900.00</td>\n",
       "      <td>2.00</td>\n",
       "      <td>1.00</td>\n",
       "      <td>NaN</td>\n",
       "      <td>0.00</td>\n",
       "      <td>0.00</td>\n",
       "      <td>Sureste</td>\n",
       "      <td>Dakota Street</td>\n",
       "      <td>Winnipeg</td>\n",
       "      <td>Manitoba</td>\n",
       "      <td>12 1424</td>\n",
       "      <td>2023-10-12</td>\n",
       "      <td>river-park-south</td>\n",
       "      <td>1,130.28</td>\n",
       "      <td>4,937.87</td>\n",
       "      <td>under</td>\n",
       "    </tr>\n",
       "    <tr>\n",
       "      <th>592</th>\n",
       "      <td>344 Turnbull Drive, Winnipeg, Manitoba</td>\n",
       "      <td>https://www.realtor.ca/real-estate/26092894/34...</td>\n",
       "      <td>https://cdn.realtor.ca/listings/TS638310032458...</td>\n",
       "      <td>798,900.00</td>\n",
       "      <td>3.00</td>\n",
       "      <td>3.00</td>\n",
       "      <td>NaN</td>\n",
       "      <td>49.75</td>\n",
       "      <td>-97.14</td>\n",
       "      <td>Sureste</td>\n",
       "      <td>Turnbull Drive</td>\n",
       "      <td>Winnipeg</td>\n",
       "      <td>Manitoba</td>\n",
       "      <td>344</td>\n",
       "      <td>2023-10-12</td>\n",
       "      <td>st-norbert</td>\n",
       "      <td>4,517.17</td>\n",
       "      <td>19,734.17</td>\n",
       "      <td>under</td>\n",
       "    </tr>\n",
       "    <tr>\n",
       "      <th>593</th>\n",
       "      <td>1328 Arlington Street, Winnipeg, Manitoba</td>\n",
       "      <td>https://www.realtor.ca/real-estate/26092893/13...</td>\n",
       "      <td>https://cdn.realtor.ca/listings/TS638310068086...</td>\n",
       "      <td>169,900.00</td>\n",
       "      <td>4.00</td>\n",
       "      <td>2.00</td>\n",
       "      <td>NaN</td>\n",
       "      <td>49.91</td>\n",
       "      <td>-97.16</td>\n",
       "      <td>Noroeste</td>\n",
       "      <td>Arlington Street</td>\n",
       "      <td>Winnipeg</td>\n",
       "      <td>Manitoba</td>\n",
       "      <td>1328</td>\n",
       "      <td>2023-10-12</td>\n",
       "      <td>north-end</td>\n",
       "      <td>960.65</td>\n",
       "      <td>4,196.82</td>\n",
       "      <td>below</td>\n",
       "    </tr>\n",
       "    <tr>\n",
       "      <th>594</th>\n",
       "      <td>798 Harbison Avenue E, Winnipeg, Manitoba</td>\n",
       "      <td>https://www.realtor.ca/real-estate/26092339/79...</td>\n",
       "      <td>https://cdn.realtor.ca/listings/TS638310032453...</td>\n",
       "      <td>184,900.00</td>\n",
       "      <td>2.00</td>\n",
       "      <td>1.00</td>\n",
       "      <td>NaN</td>\n",
       "      <td>49.91</td>\n",
       "      <td>-97.09</td>\n",
       "      <td>Noreste</td>\n",
       "      <td>Harbison Avenue E</td>\n",
       "      <td>Winnipeg</td>\n",
       "      <td>Manitoba</td>\n",
       "      <td>798</td>\n",
       "      <td>2023-10-12</td>\n",
       "      <td>elmwood</td>\n",
       "      <td>1,045.47</td>\n",
       "      <td>4,567.34</td>\n",
       "      <td>below</td>\n",
       "    </tr>\n",
       "    <tr>\n",
       "      <th>595</th>\n",
       "      <td>114 Strand Circle, Winnipeg, Manitoba</td>\n",
       "      <td>https://www.realtor.ca/real-estate/26092101/11...</td>\n",
       "      <td>https://cdn.realtor.ca/listings/TS638309959531...</td>\n",
       "      <td>389,900.00</td>\n",
       "      <td>2.00</td>\n",
       "      <td>2.00</td>\n",
       "      <td>NaN</td>\n",
       "      <td>49.81</td>\n",
       "      <td>-97.11</td>\n",
       "      <td>Sureste</td>\n",
       "      <td>Strand Circle</td>\n",
       "      <td>Winnipeg</td>\n",
       "      <td>Manitoba</td>\n",
       "      <td>114</td>\n",
       "      <td>2023-10-12</td>\n",
       "      <td>river-park-south</td>\n",
       "      <td>2,204.59</td>\n",
       "      <td>9,631.18</td>\n",
       "      <td>under</td>\n",
       "    </tr>\n",
       "  </tbody>\n",
       "</table>\n",
       "<p>596 rows × 19 columns</p>\n",
       "</div>"
      ],
      "text/plain": [
       "                                      location  \\\n",
       "0      183 Nordstrom Drive, Winnipeg, Manitoba   \n",
       "1      344 Riverton Avenue, Winnipeg, Manitoba   \n",
       "2    94 Bridgeland Drive S, Winnipeg, Manitoba   \n",
       "3      6 409 Oakdale Drive, Winnipeg, Manitoba   \n",
       "4      57 Blackmore Avenue, Winnipeg, Manitoba   \n",
       "..                                         ...   \n",
       "591  12 1424 Dakota Street, Winnipeg, Manitoba   \n",
       "592     344 Turnbull Drive, Winnipeg, Manitoba   \n",
       "593  1328 Arlington Street, Winnipeg, Manitoba   \n",
       "594  798 Harbison Avenue E, Winnipeg, Manitoba   \n",
       "595      114 Strand Circle, Winnipeg, Manitoba   \n",
       "\n",
       "                                            Título_URL  \\\n",
       "0    https://www.realtor.ca/real-estate/26154463/18...   \n",
       "1    https://www.realtor.ca/real-estate/26154462/34...   \n",
       "2    https://www.realtor.ca/real-estate/26154460/94...   \n",
       "3    https://www.realtor.ca/real-estate/26154459/6-...   \n",
       "4    https://www.realtor.ca/real-estate/26154450/57...   \n",
       "..                                                 ...   \n",
       "591  https://www.realtor.ca/real-estate/26092895/12...   \n",
       "592  https://www.realtor.ca/real-estate/26092894/34...   \n",
       "593  https://www.realtor.ca/real-estate/26092893/13...   \n",
       "594  https://www.realtor.ca/real-estate/26092339/79...   \n",
       "595  https://www.realtor.ca/real-estate/26092101/11...   \n",
       "\n",
       "                                                Imagen      price  bedrooms  \\\n",
       "0    https://cdn.realtor.ca/listings/TS638325441657... 599,900.00      5.00   \n",
       "1    https://cdn.realtor.ca/listings/TS638325441656... 139,900.00      2.00   \n",
       "2    https://cdn.realtor.ca/listings/TS638325441615... 739,900.00      2.00   \n",
       "3    https://cdn.realtor.ca/listings/TS638325441280... 134,900.00      1.00   \n",
       "4    https://cdn.realtor.ca/listings/TS638325441591... 284,900.00      2.00   \n",
       "..                                                 ...        ...       ...   \n",
       "591  https://cdn.realtor.ca/listings/TS638310068093... 199,900.00      2.00   \n",
       "592  https://cdn.realtor.ca/listings/TS638310032458... 798,900.00      3.00   \n",
       "593  https://cdn.realtor.ca/listings/TS638310068086... 169,900.00      4.00   \n",
       "594  https://cdn.realtor.ca/listings/TS638310032453... 184,900.00      2.00   \n",
       "595  https://cdn.realtor.ca/listings/TS638309959531... 389,900.00      2.00   \n",
       "\n",
       "     bathrooms    Etiqueta  Latitud  Longitud    region               block  \\\n",
       "0         4.00  15 min ago    49.83    -97.05   Sureste     Nordstrom Drive   \n",
       "1         2.00  15 min ago    49.91    -97.12   Noreste     Riverton Avenue   \n",
       "2         2.00  15 min ago    49.80    -97.18  Suroeste  Bridgeland Drive S   \n",
       "3         1.00  15 min ago    49.86    -97.27  Suroeste       Oakdale Drive   \n",
       "4         1.00  17 min ago    49.82    -97.14   Sureste    Blackmore Avenue   \n",
       "..         ...         ...      ...       ...       ...                 ...   \n",
       "591       1.00         NaN     0.00      0.00   Sureste       Dakota Street   \n",
       "592       3.00         NaN    49.75    -97.14   Sureste      Turnbull Drive   \n",
       "593       2.00         NaN    49.91    -97.16  Noroeste    Arlington Street   \n",
       "594       1.00         NaN    49.91    -97.09   Noreste   Harbison Avenue E   \n",
       "595       2.00         NaN    49.81    -97.11   Sureste       Strand Circle   \n",
       "\n",
       "          city   province   number download_date              area  \\\n",
       "0     Winnipeg   Manitoba      183    2023-10-12      island-lakes   \n",
       "1     Winnipeg   Manitoba      344    2023-10-12           elmwood   \n",
       "2     Winnipeg   Manitoba       94    2023-10-12  bridgwater-lakes   \n",
       "3     Winnipeg   Manitoba    6 409    2023-10-12       charleswood   \n",
       "4     Winnipeg   Manitoba       57    2023-10-12       bright-oaks   \n",
       "..         ...        ...      ...           ...               ...   \n",
       "591   Winnipeg   Manitoba  12 1424    2023-10-12  river-park-south   \n",
       "592   Winnipeg   Manitoba      344    2023-10-12        st-norbert   \n",
       "593   Winnipeg   Manitoba     1328    2023-10-12         north-end   \n",
       "594   Winnipeg   Manitoba      798    2023-10-12           elmwood   \n",
       "595   Winnipeg   Manitoba      114    2023-10-12  river-park-south   \n",
       "\n",
       "     normal_payment  stress_payment budget  \n",
       "0          3,391.97       14,818.54  under  \n",
       "1            791.03        3,455.76  below  \n",
       "2          4,183.57       18,276.77  under  \n",
       "3            762.76        3,332.26  below  \n",
       "4          1,610.89        7,037.51  under  \n",
       "..              ...             ...    ...  \n",
       "591        1,130.28        4,937.87  under  \n",
       "592        4,517.17       19,734.17  under  \n",
       "593          960.65        4,196.82  below  \n",
       "594        1,045.47        4,567.34  below  \n",
       "595        2,204.59        9,631.18  under  \n",
       "\n",
       "[596 rows x 19 columns]"
      ]
     },
     "metadata": {},
     "output_type": "display_data"
    }
   ],
   "source": [
    "import pandas as pd\n",
    "import numpy as np\n",
    "from datetime import datetime\n",
    "import re\n",
    "\n",
    "# %pip install numpy-financial\n",
    "import numpy_financial as npf\n",
    "\n",
    "pd.options.display.float_format = '{:,.2f}'.format\n",
    "# pd.set_option(\"max_columns\", None) #Showing only two columns\n",
    "# pd.set_option(\"max_rows\", None)\n",
    "\n",
    "\n",
    "# open C:\\Users\\Admin\\Desktop\\Portfolio\\Housing market\\ Real Estate_realtor.xlsx\n",
    "df = pd.read_excel(r'C:\\Users\\Admin\\Desktop\\Portfolio\\Housing market\\Real Estate_realtor.xlsx')\n",
    "\n",
    "def add_region_column(df):\n",
    "    conditions = [\n",
    "        (df['Latitud'] > 49.8865426) & (df['Longitud'] < -97.14173217),  # Noroeste\n",
    "        (df['Latitud'] > 49.8865426) & (df['Longitud'] > -97.14173217),  # Noreste\n",
    "        (df['Latitud'] < 49.8865426) & (df['Longitud'] < -97.14173217),  # Suroeste\n",
    "        (df['Latitud'] < 49.8865426) & (df['Longitud'] > -97.14173217)   # Sureste\n",
    "    ]\n",
    "    choices = ['Noroeste', 'Noreste', 'Suroeste', 'Sureste']\n",
    "    df['region'] = np.select(conditions, choices, default='Otro')\n",
    "    return df\n",
    "df = add_region_column(df)\n",
    "\n",
    "df = df.rename(columns={'smalllistingcardiconcon': 'bedrooms',\n",
    "                        'smalllistingcardiconcon1': 'bathrooms',\n",
    "                        'Precio': 'price',\n",
    "                        'Título': 'location'})\n",
    "\n",
    "# replace $ and , in Price column\n",
    "df['price'] = df['price'].str.replace('$','').str.replace(',','').astype(float)\n",
    "#crea una nueva columna donde separas el texto de la columna location en dos columnas diferentes\n",
    "df[['block','city','province']] = df['location'].str.split(',',expand=True)\n",
    "\n",
    "\n",
    "def find_last_number_position(text):\n",
    "    last_number_position = -1\n",
    "    for i, char in enumerate(text):\n",
    "        if char.isnumeric():\n",
    "            last_number_position = i\n",
    "    if last_number_position != -1:\n",
    "        return text[:last_number_position+1]\n",
    "    return None\n",
    "df['number'] = df['block'].apply(find_last_number_position)\n",
    "\n",
    "\n",
    "def remove_numbers(text):\n",
    "    return re.sub(r'\\d', '', text)\n",
    "df['block'] = df['block'].apply(remove_numbers)\n",
    "df['block'] = df['block'].str.strip()\n",
    "df['download_date'] = datetime.now().date()\n",
    "# df['price'] = df['price']/1000\n",
    "df['area'] = df['Título_URL'].str.split('winnipeg-', n=1).str[1]\n",
    "import numpy_financial as npf\n",
    "\n",
    "def calculate_monthly_payment(price, mortgage_years, down_payment, interest_rate):\n",
    "    interest_rate_monthly = (interest_rate / 100) / 12\n",
    "    mortgage_months = mortgage_years * 12\n",
    "    mortgage_amount = price - (price * down_payment)\n",
    "    monthly_payment = npf.pmt(interest_rate_monthly, mortgage_months, -mortgage_amount)\n",
    "    \n",
    "    return monthly_payment\n",
    "\n",
    "mortgage_years = 25  # Plazo del préstamo hipotecario en años\n",
    "down_payment = 0.2  # Porcentaje de pago inicial\n",
    "interest_rate = 7.0  # Tasa de interés anual\n",
    "df['normal_payment'] = calculate_monthly_payment(df['price'], mortgage_years, down_payment, interest_rate).round(2)\n",
    "\n",
    "mortgage_years = 3  # Plazo del préstamo hipotecario en años\n",
    "down_payment = 0.2  # Porcentaje de pago inicial\n",
    "interest_rate = 7.0  # Tasa de interés anual\n",
    "df['stress_payment'] = calculate_monthly_payment(df['price'], mortgage_years, down_payment, interest_rate).round(2)\n",
    "# df = df.drop(columns=['Imagen', 'Título_URL'])\n",
    "\n",
    "\n",
    "def add_budget_column(df):\n",
    "    conditions = [\n",
    "        (df['normal_payment'] >= 1100),\n",
    "        (df['normal_payment'] < 1100)\n",
    "    ]\n",
    "    choices = ['under', 'below']\n",
    "    df['budget'] = np.select(conditions, choices, default='Otro')\n",
    "    return df\n",
    "df = add_budget_column(df)\n",
    "\n",
    "display(df)\n",
    "df.to_excel(r'C:\\Users\\Admin\\Desktop\\Portfolio\\Housing market\\Real Estate_realtor_clean.xlsx', index = False, header=True)"
   ]
  },
  {
   "cell_type": "code",
   "execution_count": 8,
   "metadata": {},
   "outputs": [
    {
     "data": {
      "text/html": [
       "<div>\n",
       "<style scoped>\n",
       "    .dataframe tbody tr th:only-of-type {\n",
       "        vertical-align: middle;\n",
       "    }\n",
       "\n",
       "    .dataframe tbody tr th {\n",
       "        vertical-align: top;\n",
       "    }\n",
       "\n",
       "    .dataframe thead th {\n",
       "        text-align: right;\n",
       "    }\n",
       "</style>\n",
       "<table border=\"1\" class=\"dataframe\">\n",
       "  <thead>\n",
       "    <tr style=\"text-align: right;\">\n",
       "      <th></th>\n",
       "      <th>price</th>\n",
       "      <th>bedrooms</th>\n",
       "      <th>bathrooms</th>\n",
       "      <th>Latitud</th>\n",
       "      <th>Longitud</th>\n",
       "    </tr>\n",
       "  </thead>\n",
       "  <tbody>\n",
       "    <tr>\n",
       "      <th>price</th>\n",
       "      <td>1.0000</td>\n",
       "      <td>0.3850</td>\n",
       "      <td>0.6279</td>\n",
       "      <td>-0.1262</td>\n",
       "      <td>0.1255</td>\n",
       "    </tr>\n",
       "    <tr>\n",
       "      <th>bedrooms</th>\n",
       "      <td>0.3850</td>\n",
       "      <td>1.0000</td>\n",
       "      <td>0.6723</td>\n",
       "      <td>0.0960</td>\n",
       "      <td>-0.0963</td>\n",
       "    </tr>\n",
       "    <tr>\n",
       "      <th>bathrooms</th>\n",
       "      <td>0.6279</td>\n",
       "      <td>0.6723</td>\n",
       "      <td>1.0000</td>\n",
       "      <td>0.0126</td>\n",
       "      <td>-0.0133</td>\n",
       "    </tr>\n",
       "    <tr>\n",
       "      <th>Latitud</th>\n",
       "      <td>-0.1262</td>\n",
       "      <td>0.0960</td>\n",
       "      <td>0.0126</td>\n",
       "      <td>1.0000</td>\n",
       "      <td>-1.0000</td>\n",
       "    </tr>\n",
       "    <tr>\n",
       "      <th>Longitud</th>\n",
       "      <td>0.1255</td>\n",
       "      <td>-0.0963</td>\n",
       "      <td>-0.0133</td>\n",
       "      <td>-1.0000</td>\n",
       "      <td>1.0000</td>\n",
       "    </tr>\n",
       "  </tbody>\n",
       "</table>\n",
       "</div>"
      ],
      "text/plain": [
       "            price  bedrooms  bathrooms  Latitud  Longitud\n",
       "price      1.0000    0.3850     0.6279  -0.1262    0.1255\n",
       "bedrooms   0.3850    1.0000     0.6723   0.0960   -0.0963\n",
       "bathrooms  0.6279    0.6723     1.0000   0.0126   -0.0133\n",
       "Latitud   -0.1262    0.0960     0.0126   1.0000   -1.0000\n",
       "Longitud   0.1255   -0.0963    -0.0133  -1.0000    1.0000"
      ]
     },
     "metadata": {},
     "output_type": "display_data"
    }
   ],
   "source": [
    "variables = df[['price', 'bedrooms', 'bathrooms','Latitud',\t'Longitud']]\n",
    "correlation_matrix = variables.corr()\n",
    "pd.options.display.float_format = '{:,.4f}'.format\n",
    "display(correlation_matrix)"
   ]
  },
  {
   "cell_type": "code",
   "execution_count": null,
   "metadata": {},
   "outputs": [],
   "source": [
    "# from geopy.geocoders import Nominatim\n",
    "# from geopy.extra.rate_limiter import RateLimiter\n",
    "# import time\n",
    "\n",
    "# # Función para obtener la latitud y longitud de una dirección con reintentos y tiempo de espera\n",
    "# def get_lat_lon(location):\n",
    "#     try:\n",
    "#         geolocator = Nominatim(user_agent=\"GetLoc\")\n",
    "#         geocode = RateLimiter(geolocator.geocode, min_delay_seconds=4, max_retries=3)\n",
    "#         location = geocode(location)\n",
    "#         if location:\n",
    "#             return location.latitude, location.longitude\n",
    "#         else:\n",
    "#             return None, None\n",
    "#     except Exception as e:\n",
    "#         print(f\"Error: {str(e)}\")\n",
    "#         return None, None\n",
    "\n",
    "# # Aplica la función a la columna \"location\"\n",
    "# df['Latitud'], df['Longitud'] = zip(*df['location'].apply(get_lat_lon))\n",
    "\n",
    "# # Muestra el DataFrame resultante\n",
    "# df\n"
   ]
  },
  {
   "cell_type": "code",
   "execution_count": 114,
   "metadata": {},
   "outputs": [
    {
     "data": {
      "application/vnd.plotly.v1+json": {
       "config": {
        "plotlyServerURL": "https://plot.ly"
       },
       "data": [
        {
         "lat": [
          49.8275132,
          49.9107688,
          49.8017326,
          49.8592712,
          49.8202965,
          49.82906615,
          49.8699342,
          49.7984287,
          49.8777197,
          49.8867038,
          49.85894435,
          49.8959889,
          49.8570206,
          49.884516,
          49.9062385,
          49.8530429,
          49.7984234,
          49.8652153,
          49.8316792,
          49.875462,
          49.8869856,
          49.7949699,
          49.9256483,
          49.7761432,
          49.8382272,
          49.87301355,
          49.836359,
          49.9207086,
          49.8839731,
          49.8283111,
          49.7654367,
          49.8028979,
          0,
          49.8664299,
          49.8655941,
          49.9007353,
          49.76671915,
          49.8663822,
          49.8987769,
          49.8345845,
          49.9196931,
          49.7428572,
          49.7972181,
          49.8214161,
          49.9046639,
          49.8785786,
          49.9138424,
          49.8845684,
          49.9202069,
          49.8570351,
          49.844902,
          49.8930529,
          49.8816261,
          49.9339349,
          49.8507261,
          49.8463633,
          49.9107688,
          49.8958112,
          49.8702503,
          49.8693759,
          49.800857,
          0,
          49.8900816,
          49.8596376,
          0,
          49.8905109,
          49.8795468,
          49.8987951,
          49.9339349,
          49.922168,
          49.9023594,
          49.9344109,
          49.781563,
          49.9301298,
          49.8063097,
          49.8830289,
          49.9016708,
          49.8072711,
          49.9093008,
          49.7772071,
          49.8419547,
          49.9153115,
          0,
          49.7710093,
          49.7986033,
          49.8201731,
          49.8847168,
          49.9339349,
          49.8314986,
          49.9099797,
          49.7943532,
          49.9143621,
          49.8989809,
          49.8472491,
          49.8427322,
          49.8987769,
          0,
          49.8318388,
          49.8254983,
          49.773193,
          49.8111194,
          0,
          49.8735468,
          0,
          49.8907613,
          49.8831696,
          49.9008521,
          0,
          49.8905109,
          49.7837132,
          49.8744853,
          49.8979358,
          49.800857,
          49.8681091,
          49.8729863,
          49.8513108,
          49.9040955,
          49.9201587,
          49.9186195,
          0,
          0,
          0,
          49.8592712,
          49.8487259,
          49.8592712,
          0,
          0,
          49.7708753,
          49.9262214,
          49.8487259,
          0,
          49.8461355,
          49.8327996,
          49.8588631,
          49.9153115,
          0,
          49.9049386,
          49.9038666,
          49.7996672,
          49.9262214,
          49.7428572,
          0,
          49.8936481,
          49.929344,
          49.9225464,
          49.838905,
          0,
          49.8595514,
          0,
          49.8309931,
          49.8782061,
          0,
          49.8693417,
          49.7713138,
          0,
          49.9014305,
          0,
          49.7750492,
          49.878934,
          49.8017326,
          49.9044777,
          49.781563,
          0,
          0,
          0,
          49.9099797,
          49.9225464,
          49.9352766,
          49.8228161,
          49.921993,
          49.9047101,
          49.8499189,
          49.8880281,
          49.866874,
          49.8991001,
          49.8499189,
          49.8415576,
          49.9099797,
          49.929344,
          49.9148193,
          49.8070233,
          0,
          49.7875109,
          49.7206078,
          0,
          0,
          0,
          49.8217623,
          49.8377956,
          49.7765426,
          49.8831696,
          49.7874369,
          49.848463575,
          49.8487259,
          49.8487259,
          49.806515,
          49.8487259,
          0,
          49.8592712,
          49.9005068,
          49.827223,
          49.9005068,
          49.9040955,
          49.8376272,
          49.8877499,
          49.91731584999999,
          49.8814645,
          49.7434136,
          49.8166808,
          49.9378551,
          49.8838584,
          49.770811,
          49.915837,
          49.7787824,
          0,
          49.9516604,
          49.7799153,
          49.9229623,
          49.8409676,
          49.8578166,
          49.8570206,
          49.8815511,
          49.9050049,
          49.8799845,
          0,
          49.8453221,
          49.7709093,
          49.8629463,
          49.7778406,
          49.8424697,
          49.8507261,
          49.9256483,
          49.7708753,
          49.770811,
          49.8495941,
          49.8644248,
          49.8712817,
          49.91697665,
          49.802745,
          0,
          0,
          49.8765034,
          49.8644248,
          0,
          49.8999059,
          49.782822,
          49.878934,
          49.8126125,
          49.8700255,
          0,
          49.8668358,
          49.7997922,
          49.78734243561583,
          49.8974087,
          49.898754,
          49.7966542,
          49.8699342,
          49.9253099,
          49.7874369,
          49.861308,
          49.9336932,
          49.7965092,
          49.87343545,
          49.8094314,
          0,
          49.7720428,
          0,
          49.7701208,
          49.8460884,
          49.9173327,
          0,
          49.889808,
          49.91344085,
          49.8591368,
          49.8816261,
          0,
          0,
          49.9108342,
          49.9108342,
          49.8900816,
          49.8206723,
          49.8594958,
          0,
          49.9262214,
          49.8637999,
          49.878378,
          0,
          49.9154189,
          49.87220840000001,
          49.8076249,
          49.91294,
          49.8782061,
          49.8219674,
          49.8852934,
          49.9065709,
          49.8750655,
          49.9014305,
          49.8339475,
          49.8551511,
          49.8879328,
          49.9080009,
          49.7943532,
          49.9089849,
          49.8811045,
          49.8688186,
          49.9155368,
          49.8847168,
          49.8830289,
          49.8907613,
          49.8610671,
          49.8568926,
          49.8929205,
          49.9347566,
          49.84474008165137,
          49.837992,
          49.9257413,
          49.821498,
          49.9046737,
          49.8756348,
          49.9148542,
          49.8852934,
          0,
          49.9208327,
          49.8831696,
          49.9223211,
          0,
          49.8515092,
          49.8990052,
          49.8672118,
          49.9049633,
          49.87155185,
          49.9008521,
          49.9169704,
          49.8987316,
          49.79483758145462,
          49.9164517,
          49.8582074,
          49.8828487,
          49.8387601,
          49.9460411,
          49.8323586,
          49.8019518,
          49.864692,
          49.8913051,
          0,
          49.931803,
          49.8756348,
          49.879544,
          0,
          49.8270202,
          49.9287135,
          49.85936245,
          49.865444,
          49.7996672,
          0,
          49.8639208,
          49.9311085,
          49.8318388,
          49.83330175,
          49.8668874,
          49.9256483,
          49.9100727,
          49.9244217,
          49.9114087,
          49.8647597,
          49.8829382,
          49.897061,
          49.9087844,
          49.8999593,
          49.7434136,
          49.8162084,
          0,
          0,
          49.8869856,
          49.8280235,
          49.8943187,
          0,
          49.8231168,
          49.854744,
          49.8635552,
          49.9008521,
          49.8008266,
          49.800857,
          49.8750655,
          49.9171062,
          49.922307,
          49.8907613,
          49.8008928,
          49.8352471,
          49.8969912,
          49.9395189,
          49.8210826,
          49.9218412,
          49.8870513,
          0,
          49.8568926,
          49.8984247,
          49.9361262,
          49.8683298,
          49.8337801,
          49.9316813,
          49.8225697,
          49.8031242,
          49.9222101,
          49.8206723,
          49.7932626,
          49.800185,
          49.8668358,
          49.932654,
          49.919304,
          0,
          49.9361262,
          49.8490673,
          49.8226301,
          49.7828926,
          0,
          49.8364136,
          0,
          49.8636508,
          49.9164517,
          49.8896713,
          49.8801508,
          49.8930886,
          49.770811,
          0,
          0,
          0,
          0,
          49.8932765,
          49.9047305,
          49.8095386,
          49.8910944,
          0,
          0,
          49.8948185,
          49.8948185,
          0,
          0,
          49.8232674,
          0,
          0,
          49.8847168,
          49.7912985,
          0,
          49.917892,
          49.8707345,
          49.8707345,
          49.9339349,
          49.9256483,
          49.78076345,
          49.8737812,
          49.9207019,
          49.8988195,
          49.8409455,
          0,
          0,
          49.87369535000001,
          49.9105598,
          49.9306572,
          0,
          49.8424697,
          0,
          49.8980132,
          49.9174998,
          49.8794544,
          49.8484042,
          49.8631339,
          49.7848657,
          49.854744,
          49.829602,
          49.8784895,
          0,
          49.8779811,
          49.9207019,
          49.8823368,
          49.862421,
          49.8601846,
          49.7698964,
          49.8717271,
          49.8402339,
          49.8763342,
          49.9062684,
          49.8708448,
          49.7928464,
          49.9284511,
          49.908051,
          49.8879328,
          0,
          0,
          49.8246545,
          0,
          49.8491077,
          49.8831696,
          49.7957299,
          49.9229623,
          49.7962515,
          49.827779,
          49.86901,
          49.7837132,
          49.7651781,
          49.9082013,
          49.9069747,
          49.9204138,
          49.9098822,
          49.9165324,
          49.9305354,
          49.9306207,
          49.8415576,
          49.8919541,
          49.9038666,
          49.8979358,
          49.9225464,
          49.9232852,
          49.928445,
          49.8569978,
          49.8595627,
          0,
          49.9152105,
          49.7943532,
          49.8162302,
          49.8662326,
          49.9225464,
          49.9339349,
          0,
          49.8280235,
          49.8483048,
          49.8337801,
          49.7972692,
          49.8225697,
          49.9110838,
          49.8955364,
          49.8214244,
          49.8004849,
          49.8638512,
          49.8840681,
          49.9089199,
          0,
          49.78981134550478,
          0,
          49.8076101,
          49.7826025,
          49.7837132,
          49.8991001,
          49.923255,
          49.8219746,
          49.9327432,
          49.9280524,
          49.9155368,
          49.7428572,
          0,
          49.7971078,
          0,
          49.8632944,
          49.7863096,
          49.8047907,
          49.8251752,
          49.893682,
          49.9460411,
          49.9378551,
          49.8249434,
          49.9258111,
          49.8352949,
          0,
          49.9160274,
          49.9225464,
          49.8376845,
          49.9053093,
          49.9006055,
          49.9306207,
          49.9059533,
          49.7434136,
          0,
          49.9049386,
          49.9178367,
          49.8777437,
          49.8674288,
          49.8031242,
          49.8857542,
          49.9092342,
          49.894305,
          49.9155368,
          49.837992,
          49.7720428,
          49.7735872,
          49.79450445,
          49.9280524,
          49.7428572,
          49.8647597,
          49.9331544,
          49.9260383,
          49.8669726,
          0,
          49.7509921,
          49.9110838,
          49.9094485,
          49.8116065
         ],
         "lon": [
          -97.0533498,
          -97.1218072,
          -97.1835436,
          -97.2707434,
          -97.1399178,
          -97.1318871113599,
          -97.3036351,
          -97.2126422,
          -97.1402198,
          -97.3213715,
          -97.06269086912532,
          -96.9834621,
          -97.1414975,
          -97.2207598,
          -97.1467395,
          -97.2144843,
          -97.1922076,
          -97.1985296,
          -97.121337,
          -97.1541317,
          -97.1338843,
          -97.1960091,
          -97.176099,
          -97.182715,
          -97.0679645,
          -97.20603948136721,
          -97.1925111,
          -97.0408649,
          -97.2722631,
          -97.0947276,
          -97.1565881,
          -97.1214899,
          0,
          -97.1055534,
          -97.3993403,
          -97.0772969,
          -97.1662375,
          -97.29789707724323,
          -97.2856933,
          -97.0631619,
          -97.1298247,
          -97.1369706,
          -97.1396204,
          -97.1925916,
          -97.0080386,
          -97.13095475,
          -97.0326969,
          -97.1760317,
          -97.072881,
          -97.3186002,
          -97.1323196,
          -97.3022397,
          -97.1567734,
          -97.1571093,
          -97.1843449,
          -97.3167353,
          -97.1218072,
          -97.144801,
          -97.1799401,
          -97.1439876,
          -97.1656643,
          0,
          -97.1243676,
          -97.0945439,
          0,
          -97.1812784,
          -97.1718951,
          -96.9733373,
          -97.1571093,
          -97.0593364,
          -96.9657373,
          -96.8476387,
          -97.1632576,
          -97.1483479,
          -97.1207833,
          -97.1863078,
          -96.9935403,
          -97.1756522,
          -97.0328703,
          -97.33173,
          -97.3218554,
          -97.0552316,
          0,
          -97.1936448,
          -97.1593774,
          -97.073703,
          -97.1748975,
          -97.1571093,
          -97.0347091,
          -97.1862165,
          -97.1997992,
          -97.1210904,
          -97.1344928,
          -97.1338683,
          -97.1793536,
          -97.2856933,
          0,
          -97.0529293,
          -97.1142954,
          -97.1952939,
          -97.1926432,
          0,
          -97.114081,
          0,
          -97.1895932,
          -97.1436916,
          -97.1418494,
          0,
          -97.1812784,
          -97.145894,
          -97.2950864,
          -97.1389683,
          -97.1656643,
          -97.0842468,
          -97.0879599,
          -97.2247015,
          -97.1490476,
          -97.045873,
          -97.1301053,
          0,
          0,
          0,
          -97.2707434,
          -97.2717041,
          -97.2707434,
          0,
          0,
          -97.1952456,
          -97.1362474,
          -97.2717041,
          0,
          -97.1170889,
          -97.0572008,
          -97.1507296,
          -97.0552316,
          0,
          -97.0359952,
          -97.0553477,
          -97.1595328,
          -97.1362474,
          -97.1369706,
          0,
          -97.1789131,
          -97.1167997,
          -97.1447477,
          -97.03384155332002,
          0,
          -96.9812958,
          0,
          -97.0289468,
          -97.1687439,
          0,
          -97.1517228,
          -97.3367097,
          0,
          -97.0857082,
          0,
          -97.0949348,
          -97.1172071,
          -97.1835436,
          -97.1347018,
          -97.1632576,
          0,
          0,
          0,
          -97.1862165,
          -97.1447477,
          -96.8617558,
          -97.0369181,
          -97.0982861,
          -96.9981219,
          -97.1923803,
          -97.2168397,
          -97.1870327,
          -97.0085626,
          -97.1923803,
          -97.1154793,
          -97.1862165,
          -97.1167997,
          -97.12053486597927,
          -97.070122,
          0,
          -97.1489259,
          -96.8468509,
          0,
          0,
          0,
          -97.1476891,
          -97.1603434,
          -97.1370657,
          -97.1436916,
          -97.19917,
          -97.14741707499999,
          -97.2717041,
          -97.2717041,
          -97.15916642503348,
          -97.2717041,
          0,
          -97.2707434,
          -97.1407899,
          -97.1894561,
          -97.1407899,
          -97.1490476,
          -97.1201679,
          -97.2131993,
          -97.12032714601207,
          -96.8426364,
          -97.0305845,
          -97.1515254,
          -97.1594151,
          -97.177213,
          -97.1924227,
          -97.0486382,
          -96.8896382,
          0,
          -97.149005,
          -97.1662585,
          -97.1485643,
          -97.145241,
          -97.13836305000001,
          -97.1414975,
          -97.3222498,
          -97.0420384,
          -97.1131792,
          0,
          -97.1476184,
          -97.1965273,
          -97.4375858,
          -97.2022494,
          -97.1648095,
          -97.1843449,
          -97.176099,
          -97.1952456,
          -97.1924227,
          -97.1543254,
          -97.1040638,
          -97.2552555,
          -97.11931181528118,
          -97.0907388,
          0,
          0,
          -97.272801,
          -97.1040638,
          0,
          -96.9933363,
          -97.1541343,
          -97.1172071,
          -97.1068544,
          -97.2837757,
          0,
          -97.1857345,
          -97.1101528,
          -97.18091324322519,
          -96.9850586,
          -97.3099705,
          -97.1623407,
          -97.3036351,
          -97.1724925,
          -97.19917,
          -97.1395368,
          -97.2010569,
          -97.1386423,
          -97.16126139821677,
          -97.0746424,
          0,
          -97.3386846,
          0,
          -97.1888474,
          -97.1143002,
          -97.1142117,
          0,
          -96.9653596,
          -97.11642314597665,
          -97.3122609,
          -97.1567734,
          0,
          0,
          -97.0409545,
          -97.0409545,
          -97.1243676,
          -97.1106314,
          -97.2506681,
          0,
          -97.1362474,
          -97.2000497,
          -97.2999708,
          0,
          -97.1508134,
          -97.18079304825861,
          -97.0796717,
          -97.0474504,
          -97.1687439,
          -97.1317941,
          -97.2393385,
          -97.0576932,
          -97.1406401,
          -97.0857082,
          -97.1172451,
          -97.268604,
          -97.2192611,
          -97.1524942,
          -97.1997992,
          -97.0956347,
          -97.1004825,
          -97.1335032,
          -97.1788342,
          -97.1748975,
          -97.1863078,
          -97.1895932,
          -97.1737825,
          -97.1643355,
          -96.9607213,
          -97.231852,
          -97.11159185596331,
          -97.043581,
          -97.0446788,
          -97.1927552,
          -96.9729059,
          -97.2658979,
          -97.11815338799633,
          -97.2393385,
          0,
          -97.1986252,
          -97.1436916,
          -97.0348315,
          0,
          -97.1074186,
          -97.1373619,
          -97.1282305,
          -97.0643799,
          -97.1549245873483,
          -97.1418494,
          -97.14839923699681,
          -97.1389604,
          -97.17288792339674,
          -97.103986,
          -97.3157536,
          -97.1885867,
          -97.1123739,
          -97.2294596,
          -97.1218488,
          -97.1968246,
          -97.1474525,
          -97.2965848,
          0,
          -97.1520418,
          -97.2658979,
          -97.1440406,
          0,
          -97.1929619,
          -97.1480424,
          -97.13372588506695,
          -97.2916222,
          -97.1595328,
          0,
          -97.1484131,
          -97.1008212,
          -97.0529293,
          -97.14467071255132,
          -97.1461256,
          -97.176099,
          -97.1306643,
          -97.1637813,
          -97.1290949,
          -97.1474152,
          -97.1020202,
          -97.1387489,
          -97.0214205,
          -97.1435338,
          -97.0305845,
          -97.1888644,
          0,
          0,
          -97.1338843,
          -97.19009,
          -97.0121719,
          0,
          -97.1338779,
          -97.1084925,
          -97.1939407,
          -97.1418494,
          -97.1440319,
          -97.1656643,
          -97.1406401,
          -97.192357,
          -97.1309964,
          -97.1895932,
          -97.1398698,
          -97.1110871,
          -97.1762284,
          -97.1345093,
          -97.0346501,
          -97.1264143,
          -97.1646422,
          0,
          -97.1643355,
          -97.0252253,
          -97.1578468,
          -97.2624017,
          -97.2993902,
          -97.1874874,
          -97.0527818,
          -97.1778117,
          -97.1945,
          -97.1106314,
          -97.2062064,
          -97.1003285,
          -97.1857345,
          -97.1307013,
          -97.1565531,
          0,
          -97.1578468,
          -97.2151901,
          -97.0313348,
          -97.2000704,
          0,
          -97.1566241,
          0,
          -97.2535378,
          -97.103986,
          -97.2118801,
          -97.1582572,
          -97.2799774,
          -97.1924227,
          0,
          0,
          0,
          0,
          -97.163079,
          -96.9759904,
          -97.1891438,
          -96.9639637,
          0,
          0,
          -97.2882502,
          -97.2882502,
          0,
          0,
          -97.034043,
          0,
          0,
          -97.1748975,
          -97.2102747,
          0,
          -97.1325778,
          -97.1079662,
          -97.1079662,
          -97.1571093,
          -97.176099,
          -97.17051655,
          -97.1810192,
          -97.1006252,
          -96.9626372,
          -97.315916,
          0,
          0,
          -97.17642864776326,
          -97.029997,
          -97.0455839,
          0,
          -97.1648095,
          0,
          -97.2096512,
          -97.12192945698698,
          -97.1741684,
          -97.3165217,
          -97.0823395,
          -97.1863863,
          -97.1084925,
          -97.0513884,
          -97.1472323,
          0,
          -97.2903848,
          -97.1006252,
          -97.2935889,
          -97.13101785,
          -97.2563603,
          -97.3313179,
          -97.1034074,
          -97.1036353,
          -97.1501501,
          -97.1083162,
          -97.1959019,
          -97.1726363,
          -97.0977952,
          -97.1270739,
          -97.2192611,
          0,
          0,
          -97.100993,
          0,
          -97.1475814,
          -97.1436916,
          -97.2042953,
          -97.1485643,
          -97.1469634,
          -97.0757916,
          -97.1648437,
          -97.145894,
          -97.1534284,
          -97.1038377,
          -97.0053007,
          -97.0550952,
          -97.1312926,
          -97.1952012,
          -97.0110969,
          -97.175509,
          -97.1154793,
          -97.2769988,
          -97.0553477,
          -97.1389683,
          -97.1447477,
          -97.0393466,
          -97.1368072,
          -97.2860895,
          -97.0810642,
          0,
          -97.0221821,
          -97.1997992,
          -97.0819757,
          -97.2043038,
          -97.1447477,
          -97.1571093,
          0,
          -97.19009,
          -97.1517989,
          -97.2993902,
          -97.1061594,
          -97.0527818,
          -97.1627028,
          -97.1209065,
          -97.1869255,
          -97.18653724216051,
          -97.2012847,
          -97.1879759,
          -97.103277,
          0,
          -97.17144325423448,
          0,
          -97.0812726,
          -97.1950587,
          -97.145894,
          -97.0085626,
          -97.1376993,
          -97.1476955,
          -97.2098118,
          -97.1729658,
          -97.1788342,
          -97.1369706,
          0,
          -97.167083,
          0,
          -97.3134635,
          -97.1497129,
          -97.1796292,
          -97.1124976,
          -97.1800027,
          -97.2294596,
          -97.1594151,
          -97.069603,
          -97.0723141,
          -97.1813812,
          0,
          -97.0828127,
          -97.1447477,
          -97.1535211,
          -97.1176977,
          -97.0055725,
          -97.175509,
          -97.0558254,
          -97.0305845,
          0,
          -97.0359952,
          -97.15454196850132,
          -97.2959579,
          -97.2367616,
          -97.1778117,
          -97.1606969,
          -97.1170434,
          -96.9881702,
          -97.1788342,
          -97.043581,
          -97.3386846,
          -97.1737446,
          -97.16186760000001,
          -97.1729658,
          -97.1369706,
          -97.1474152,
          -97.0747882,
          -97.0645731,
          -97.189551,
          0,
          -97.1390286,
          -97.1627028,
          -97.0902285,
          -97.1050772
         ],
         "marker": {
          "color": "red",
          "opacity": 0.7,
          "size": 10
         },
         "mode": "markers",
         "text": [
          [
           599900,
           "183 Nordstrom Drive, Winnipeg, Manitoba",
           5,
           4
          ],
          [
           139900,
           "344 Riverton Avenue, Winnipeg, Manitoba",
           2,
           2
          ],
          [
           739900,
           "94 Bridgeland Drive S, Winnipeg, Manitoba",
           2,
           2
          ],
          [
           134900,
           "6 409 Oakdale Drive, Winnipeg, Manitoba",
           1,
           1
          ],
          [
           284900,
           "57 Blackmore Avenue, Winnipeg, Manitoba",
           2,
           1
          ],
          [
           499900,
           "44 Falconer Bay, Winnipeg, Manitoba",
           4,
           3
          ],
          [
           399900,
           "130 Barron Drive, Winnipeg, Manitoba",
           3,
           2
          ],
          [
           599900,
           "159 Eagleview Road, Winnipeg, Manitoba",
           3,
           2
          ],
          [
           149900,
           "205 118 Scott Street, Winnipeg, Manitoba",
           2,
           1
          ],
          [
           259900,
           "97 Bernadine Crescent, Winnipeg, Manitoba",
           3,
           1
          ],
          [
           349900,
           "1163 Paterson Street, Winnipeg, Manitoba",
           3,
           2
          ],
          [
           269900,
           "319 Victoria Avenue E, Winnipeg, Manitoba",
           3,
           1
          ],
          [
           399900,
           "293 Rosedale Avenue, Winnipeg, Manitoba",
           3,
           3
          ],
          [
           239900,
           "402 Rutland Street, Winnipeg, Manitoba",
           2,
           2
          ],
          [
           249000,
           "380 Salter Street, Winnipeg, Manitoba",
           0,
           null
          ],
          [
           207900,
           "101 101 Swindon Way, Winnipeg, Manitoba",
           2,
           2
          ],
          [
           299900,
           "401 10 Hill Grove Point, Winnipeg, Manitoba",
           2,
           1
          ],
          [
           449900,
           "360 Lanark Street, Winnipeg, Manitoba",
           3,
           2
          ],
          [
           589900,
           "58 Bethune Way, Winnipeg, Manitoba",
           4,
           3
          ],
          [
           699900,
           "30 East Gate, Winnipeg, Manitoba",
           6,
           5
          ],
          [
           462900,
           "905 390 Assiniboine Avenue, Winnipeg, Manitoba",
           2,
           2
          ],
          [
           528800,
           "119 Park East Drive, Winnipeg, Manitoba",
           4,
           4
          ],
          [
           34900,
           "824 Selkirk Avenue, Winnipeg, Manitoba",
           0,
           0
          ],
          [
           824900,
           "96 Northern Lights Drive, Winnipeg, Manitoba",
           4,
           3
          ],
          [
           479900,
           "55 Breakwater Cove, Winnipeg, Manitoba",
           4,
           3
          ],
          [
           399900,
           "114 Carpathia Road, Winnipeg, Manitoba",
           3,
           2
          ],
          [
           749900,
           "63 Duncan Norrie Drive, Winnipeg, Manitoba",
           4,
           4
          ],
          [
           399900,
           "150 Rutledge Crescent, Winnipeg, Manitoba",
           3,
           3
          ],
          [
           399900,
           "12 Athlone Drive, Winnipeg, Manitoba",
           3,
           2
          ],
          [
           309900,
           "100 Ashworth Street, Winnipeg, Manitoba",
           4,
           2
          ],
          [
           249900,
           "114 Villeneuve Boulevard, Winnipeg, Manitoba",
           3,
           2
          ],
          [
           719000,
           "111 Normand Park Drive, Winnipeg, Manitoba",
           3,
           4
          ],
          [
           239900,
           "403 1133 Portage Avenue, Winnipeg, Manitoba",
           2,
           1
          ],
          [
           375000,
           "100 Des Meurons Street, Winnipeg, Manitoba",
           0,
           0
          ],
          [
           2850000,
           "21 Marston Drive, Headingley, Manitoba",
           10,
           5
          ],
          [
           169900,
           "831 McCalman Avenue, Winnipeg, Manitoba",
           3,
           1
          ],
          [
           339900,
           "50 La Porte Drive, Winnipeg, Manitoba",
           4,
           2
          ],
          [
           629000,
           "56 Longfellow Bay, Winnipeg, Manitoba",
           5,
           4
          ],
          [
           159900,
           "1428 76 Quail Ridge Road, Winnipeg, Manitoba",
           2,
           1
          ],
          [
           549900,
           "6 Black Pearl Cove, Winnipeg, Manitoba",
           4,
           3
          ],
          [
           149900,
           "906 Mountain Avenue, Winnipeg, Manitoba",
           2,
           1
          ],
          [
           219900,
           "205 3285 Pembina Highway, Winnipeg, Manitoba",
           1,
           1
          ],
          [
           384900,
           "51 Tunis Bay, Winnipeg, Manitoba",
           3,
           3
          ],
          [
           695000,
           "7 Castle Ridge. Drive, Winnipeg, Manitoba",
           4,
           3
          ],
          [
           399900,
           "454 Edward Avenue W, Winnipeg, Manitoba",
           4,
           2
          ],
          [
           299900,
           "208 Pinedale Avenue, Winnipeg, Manitoba",
           2,
           2
          ],
          [
           599900,
           "83 Tychonick Bay, Winnipeg, Manitoba",
           4,
           4
          ],
          [
           359900,
           "76 Sherburn Street, Winnipeg, Manitoba",
           3,
           2
          ],
          [
           334900,
           "42 Sawchuk Bay, Winnipeg, Manitoba",
           3,
           2
          ],
          [
           269900,
           "22 Dellwood Crescent, Winnipeg, Manitoba",
           3,
           2
          ],
          [
           1398800,
           "570 South Drive, Winnipeg, Manitoba",
           5,
           3
          ],
          [
           389900,
           "34 Hedges Bay, Winnipeg, Manitoba",
           3,
           3
          ],
          [
           169900,
           "633 Langside Street, Winnipeg, Manitoba",
           2,
           2
          ],
          [
           339900,
           "99 Cathedral Avenue, Winnipeg, Manitoba",
           3,
           2
          ],
          [
           679900,
           "789 Ash Street, Winnipeg, Manitoba",
           4,
           3
          ],
          [
           699900,
           "4 Kelly Place, Winnipeg, Manitoba",
           3,
           3
          ],
          [
           199900,
           "426 Riverton Avenue, Winnipeg, Manitoba",
           3,
           1
          ],
          [
           94900,
           "1119 411 Cumberland Avenue, Winnipeg, Manitoba",
           1,
           1
          ],
          [
           629900,
           "819 Elm Street, Winnipeg, Manitoba",
           5,
           3
          ],
          [
           284900,
           "1058 Garwood Avenue, Winnipeg, Manitoba",
           3,
           1
          ],
          [
           298000,
           "307 70 Barnes Street, Winnipeg, Manitoba",
           2,
           2
          ],
          [
           1080000,
           "802 141 Wellington Crescent, Winnipeg, Manitoba",
           2,
           2
          ],
          [
           499900,
           "51 Tache Avenue, Winnipeg, Manitoba",
           3,
           2
          ],
          [
           429900,
           "29 Iroquois Bay, Winnipeg, Manitoba",
           3,
           2
          ],
          [
           469900,
           "3303 1960 St Mary's Road, Winnipeg, Manitoba",
           2,
           2
          ],
          [
           249900,
           "632 Goulding Street, Winnipeg, Manitoba",
           2,
           2
          ],
          [
           524900,
           "205 Lenore Street, Winnipeg, Manitoba",
           5,
           3
          ],
          [
           369900,
           "72 George Marshall Way, Winnipeg, Manitoba",
           3,
           2
          ],
          [
           299900,
           "396 Cathedral Avenue, Winnipeg, Manitoba",
           3,
           2
          ],
          [
           399900,
           "37 Siddall Crescent, Winnipeg, Manitoba",
           4,
           2
          ],
          [
           385000,
           "63 Corliss Crescent, Winnipeg, Manitoba",
           5,
           2
          ],
          [
           389900,
           "88 Palmtree Bay, Oakbank, Manitoba",
           4,
           3
          ],
          [
           499900,
           "230 Kirkbridge Drive, Winnipeg, Manitoba",
           5,
           4
          ],
          [
           249900,
           "345 Machray Avenue, Winnipeg, Manitoba",
           3,
           2
          ],
          [
           684900,
           "18 Hedgewood Cove, Winnipeg, Manitoba",
           5,
           3
          ],
          [
           294900,
           "498 Clifton Street, Winnipeg, Manitoba",
           3,
           2
          ],
          [
           329900,
           "438 Harold Avenue, Winnipeg, Manitoba",
           4,
           1
          ],
          [
           245000,
           "213 25 Bridgeland Drive, Winnipeg, Manitoba",
           1,
           1
          ],
          [
           574900,
           "78 Bill Blaikie Bay, Winnipeg, Manitoba",
           5,
           4
          ],
          [
           649937,
           "10 THOMPSON Court, Oak Bluff, Manitoba",
           3,
           2
          ],
          [
           559000,
           "63 Alora Cove, Winnipeg, Manitoba",
           3,
           2
          ],
          [
           479900,
           "36 Eaglemere Drive, Winnipeg, Manitoba",
           5,
           3
          ],
          [
           516400,
           "11 Wilkie Place, Grande Pointe, Manitoba",
           3,
           2
          ],
          [
           589900,
           "11 Crystal Lake Terrace, Winnipeg, Manitoba",
           4,
           3
          ],
          [
           269900,
           "506 40 Shore Street, Winnipeg, Manitoba",
           2,
           2
          ],
          [
           649900,
           "116 Bridgetown Drive, Winnipeg, Manitoba",
           4,
           3
          ],
          [
           249900,
           "1061 Ingersoll Street, Winnipeg, Manitoba",
           3,
           1
          ],
          [
           184900,
           "486 Cathedral Avenue, Winnipeg, Manitoba",
           3,
           1
          ],
          [
           968880,
           "104 Blue Sun Drive, Winnipeg, Manitoba",
           4,
           3
          ],
          [
           244900,
           "721 Valour Road, Winnipeg, Manitoba",
           3,
           2
          ],
          [
           512000,
           "318 Park West Drive, Winnipeg, Manitoba",
           3,
           3
          ],
          [
           109000,
           "196 Hespeler Avenue, Winnipeg, Manitoba",
           2,
           2
          ],
          [
           314900,
           "202 128 James Avenue, Winnipeg, Manitoba",
           1,
           1
          ],
          [
           449900,
           "71 Wildwood Park, Winnipeg, Manitoba",
           4,
           2
          ],
          [
           219900,
           "6207 177 Victor Lewis Drive, Winnipeg, Manitoba",
           2,
           1
          ],
          [
           187900,
           "1433 76 Quail Ridge Road, Winnipeg, Manitoba",
           2,
           2
          ],
          [
           59900,
           "2106 Gallagher Street, Winnipeg, Manitoba",
           2,
           1
          ],
          [
           459900,
           "833 De La Seigneurie Boulevard, Winnipeg, Manitoba",
           3,
           3
          ],
          [
           1599900,
           "2346 St Mary's Road, Winnipeg, Manitoba",
           6,
           4
          ],
          [
           599900,
           "27 BRIDGEHAMPTON Bay, Winnipeg, Manitoba",
           4,
           3
          ],
          [
           175000,
           "2 486 Kenaston Boulevard, Winnipeg, Manitoba",
           2,
           2
          ],
          [
           459900,
           "206 167 Bannatyne Avenue, Winnipeg, Manitoba",
           2,
           2
          ],
          [
           339900,
           "88 Champlain Street, Winnipeg, Manitoba",
           3,
           1
          ],
          [
           445000,
           "259 Crestmont Drive, Winnipeg, Manitoba",
           3,
           3
          ],
          [
           259900,
           "727 Ashburn Street, Winnipeg, Manitoba",
           3,
           1
          ],
          [
           138500,
           "102 15 Kennedy Street, Winnipeg, Manitoba",
           1,
           1
          ],
          [
           109900,
           "1815 Elgin Avenue, Winnipeg, Manitoba",
           0,
           0
          ],
          [
           535000,
           "23 Eastfield Court, Winnipeg, Manitoba",
           3,
           2
          ],
          [
           289900,
           "666 Goulding Street, Winnipeg, Manitoba",
           3,
           1
          ],
          [
           499900,
           "252 Rochester Avenue, Winnipeg, Manitoba",
           4,
           2
          ],
          [
           329900,
           "6 15 Jolliett Crescent, Winnipeg, Manitoba",
           4,
           3
          ],
          [
           439900,
           "207 167 Bannatyne Avenue, Winnipeg, Manitoba",
           2,
           2
          ],
          [
           249900,
           "406 80 Barnes Street, Winnipeg, Manitoba",
           1,
           1
          ],
          [
           379900,
           "56 Frontenac Bay, Winnipeg, Manitoba",
           5,
           2
          ],
          [
           229900,
           "41 Drake Boulevard, Winnipeg, Manitoba",
           3,
           1
          ],
          [
           3650000,
           "65 Colchester Bay, Winnipeg, Manitoba",
           6,
           6
          ],
          [
           80000,
           "1631 Ross Avenue, Winnipeg, Manitoba",
           0,
           0
          ],
          [
           549900,
           "43 Parasiuk Place, Winnipeg, Manitoba",
           3,
           3
          ],
          [
           99900,
           "306 College Avenue, Winnipeg, Manitoba",
           5,
           2
          ],
          [
           439900,
           "429 Notre Dame Drive, Lorette, Manitoba",
           5,
           3
          ],
          [
           449878,
           "309 Cresmont Drive, Winnipeg, Manitoba",
           3,
           3
          ],
          [
           449984,
           "307 Cresmont Drive, Winnipeg, Manitoba",
           3,
           3
          ],
          [
           779900,
           "D 341 Oakdale Drive, Winnipeg, Manitoba",
           2,
           2
          ],
          [
           779900,
           "C 341 Oakdale Drive, Winnipeg, Manitoba",
           2,
           2
          ],
          [
           779900,
           "B 341 Oakdale Drive, Winnipeg, Manitoba",
           2,
           2
          ],
          [
           749900,
           "F 375 Oakdale Drive, Winnipeg, Manitoba",
           1,
           2
          ],
          [
           599900,
           "50 Gottfried Point, Winnipeg, Manitoba",
           5,
           3
          ],
          [
           699900,
           "16 FIRESTONE Drive, Winnipeg, Manitoba",
           4,
           3
          ],
          [
           1750000,
           "178 Machray Ave, Winnipeg, Manitoba",
           null,
           null
          ],
          [
           749900,
           "D 375 Oakdale Drive, Winnipeg, Manitoba",
           2,
           2
          ],
          [
           749900,
           "E 375 Oakdale Drive, Winnipeg, Manitoba",
           2,
           2
          ],
          [
           499900,
           "268 Dunkirk Drive, Winnipeg, Manitoba",
           3,
           2
          ],
          [
           439900,
           "137 Camirant Crescent, Winnipeg, Manitoba",
           4,
           3
          ],
          [
           159900,
           "503 1600 Taylor Avenue, Winnipeg, Manitoba",
           1,
           1
          ],
          [
           539900,
           "160 Eaglemere Drive, Winnipeg, Manitoba",
           3,
           3
          ],
          [
           189900,
           "213 Penny Lane, Grande Pointe, Manitoba",
           0,
           0
          ],
          [
           479900,
           "342 Tyson Trail, Winnipeg, Manitoba",
           3,
           3
          ],
          [
           479900,
           "371 El Tassi Drive, Winnipeg, Manitoba",
           3,
           3
          ],
          [
           349900,
           "101 1355 Lee Boulevard, Winnipeg, Manitoba",
           3,
           3
          ],
          [
           1750000,
           "178 Machray Avenue, Winnipeg, Manitoba",
           0,
           null
          ],
          [
           162900,
           "714 3030 Pembina Highway, Winnipeg, Manitoba",
           2,
           1
          ],
          [
           499900,
           "190 Blackbird Way, Grande Pointe, Manitoba",
           3,
           2
          ],
          [
           289900,
           "1035 Downing Street, Winnipeg, Manitoba",
           2,
           1
          ],
          [
           279900,
           "556 Smithfield Avenue, Winnipeg, Manitoba",
           4,
           1
          ],
          [
           145000,
           "290 Boyd Avenue, Winnipeg, Manitoba",
           3,
           2
          ],
          [
           619999,
           "186 Snowberry Circle, Winnipeg, Manitoba",
           3,
           3
          ],
          [
           162900,
           "905 3200 Portage Avenue, Winnipeg, Manitoba",
           1,
           1
          ],
          [
           975000,
           "58118 Murdock Road, Winnipeg, Manitoba",
           3,
           4
          ],
          [
           182900,
           "507 71 Roslyn Road, Winnipeg, Manitoba",
           1,
           1
          ],
          [
           499900,
           "153 Moonbeam Way, Winnipeg, Manitoba",
           3,
           3
          ],
          [
           249000,
           "764 Home Street, Winnipeg, Manitoba",
           3,
           2
          ],
          [
           476500,
           "225 Blackbird Way, Grande Pointe, Manitoba",
           2,
           2
          ],
          [
           329900,
           "1080 Warsaw Avenue, Winnipeg, Manitoba",
           2,
           1
          ],
          [
           789900,
           "16 Stone Hearth Lane, Oak Bluff, Manitoba",
           3,
           2
          ],
          [
           449753,
           "289 Crestmont Drive, Winnipeg, Manitoba",
           3,
           3
          ],
          [
           219900,
           "679 Nairn Avenue, Winnipeg, Manitoba",
           3,
           1
          ],
          [
           628000,
           "3 Inez Crossing, Winnipeg, Manitoba",
           3,
           0
          ],
          [
           1999999,
           "100 Fraser Road, Winnipeg, Manitoba",
           5,
           4
          ],
          [
           1125000,
           "199 Kitson St, Winnipeg, Manitoba",
           null,
           null
          ],
          [
           749000,
           "87 Bridgeland Drive S, Winnipeg, Manitoba",
           4,
           4
          ],
          [
           174900,
           "130 Higgins Avenue, Winnipeg, Manitoba",
           4,
           2
          ],
          [
           498500,
           "606 Kirkbridge Drive, Winnipeg, Manitoba",
           5,
           3
          ],
          [
           769900,
           "19 Raven Road, Winnipeg, Manitoba",
           3,
           3
          ],
          [
           199900,
           "9 1330 Markham Road, Winnipeg, Manitoba",
           2,
           2
          ],
          [
           769900,
           "10 Raven Road, Winnipeg, Manitoba",
           3,
           2
          ],
          [
           119900,
           "796 Valour Road, Winnipeg, Manitoba",
           1,
           1
          ],
          [
           140000,
           "667 Boyd Avenue, Winnipeg, Manitoba",
           5,
           2
          ],
          [
           409900,
           "32 Ashley Drive, Oakbank, Manitoba",
           4,
           2
          ],
          [
           849514,
           "54 Siskin Bay, Winnipeg, Manitoba",
           3,
           3
          ],
          [
           274900,
           "224 Sydney Avenue, Winnipeg, Manitoba",
           2,
           2
          ],
          [
           360000,
           "118 Edward Avenue E, Winnipeg, Manitoba",
           3,
           1
          ],
          [
           1549000,
           "99 Campbell Street, Winnipeg, Manitoba",
           4,
           4
          ],
          [
           189900,
           "286 Collegiate Street, Winnipeg, Manitoba",
           2,
           2
          ],
          [
           1349900,
           "250 Queenston Street, Winnipeg, Manitoba",
           3,
           2
          ],
          [
           297900,
           "430 Harvard Avenue W, Winnipeg, Manitoba",
           3,
           1
          ],
          [
           299900,
           "467 Campbell Street, Winnipeg, Manitoba",
           2,
           1
          ],
          [
           252900,
           "128 St Vital Road, Winnipeg, Manitoba",
           2,
           1
          ],
          [
           159900,
           "918 Valour Road, Winnipeg, Manitoba",
           2,
           1
          ],
          [
           284900,
           "560 Smithfield Avenue, Winnipeg, Manitoba",
           2,
           1
          ],
          [
           319900,
           "62 Hart Avenue, Winnipeg, Manitoba",
           3,
           4
          ],
          [
           569900,
           "631 St Anne's Road, Winnipeg, Manitoba",
           3,
           2
          ],
          [
           359900,
           "30 1150 St Anne's Road, Winnipeg, Manitoba",
           2,
           3
          ],
          [
           459000,
           "27 Bryn Mawr Road, Winnipeg, Manitoba",
           5,
           3
          ],
          [
           449900,
           "24030 River Road, Lorette, Manitoba",
           4,
           3
          ],
          [
           620000,
           "202 Crestmont Drive, Winnipeg, Manitoba",
           4,
           3
          ],
          [
           507900,
           "30 Williams Bay, Lorette, Manitoba",
           3,
           2
          ],
          [
           489900,
           "1003 99 Wellington Crescent, Winnipeg, Manitoba",
           2,
           2
          ],
          [
           179000,
           "5206 130 Plaza Drive, Winnipeg, Manitoba",
           2,
           1
          ],
          [
           199900,
           "6 Biscayne Bay, Winnipeg, Manitoba",
           2,
           1
          ],
          [
           829900,
           "135 Christie Road, Winnipeg, Manitoba",
           5,
           4
          ],
          [
           164900,
           "801 15 Kennedy Street, Winnipeg, Manitoba",
           2,
           1
          ],
          [
           679900,
           "396 Cherrywood Road, Winnipeg, Manitoba",
           3,
           2
          ],
          [
           495000,
           "815 Somerset Avenue, Winnipeg, Manitoba",
           4,
           3
          ],
          [
           749900,
           "B 375 Oakdale Drive, Winnipeg, Manitoba",
           2,
           2
          ],
          [
           749900,
           "C 375 Oakdale Drive, Winnipeg, Manitoba",
           2,
           2
          ],
          [
           399900,
           "25 Osgoode Place, Winnipeg, Manitoba",
           3,
           2
          ],
          [
           619900,
           "A 375 Oakdale Drive, Winnipeg, Manitoba",
           2,
           2
          ],
          [
           619900,
           "G 375 Oakdale Drive, Winnipeg, Manitoba",
           2,
           2
          ],
          [
           779900,
           "A 341 Oakdale Drive, Winnipeg, Manitoba",
           2,
           2
          ],
          [
           239900,
           "244 Princess Street, Winnipeg, Manitoba",
           0,
           null
          ],
          [
           649900,
           "14 Farmingdale Boulevard, Winnipeg, Manitoba",
           3,
           3
          ],
          [
           479900,
           "242 Princess Street, Winnipeg, Manitoba",
           0,
           null
          ],
          [
           359900,
           "669 Ross Avenue, Winnipeg, Manitoba",
           5,
           4
          ],
          [
           324900,
           "169 Moore Avenue, Winnipeg, Manitoba",
           3,
           1
          ],
          [
           264900,
           "216 Marjorie Street, Winnipeg, Manitoba",
           3,
           1
          ],
          [
           249900,
           "40 Carmen Avenue, Winnipeg, Manitoba",
           3,
           2
          ],
          [
           484900,
           "74 Harvest Moon Road, Dugald, Manitoba",
           3,
           2
          ],
          [
           461220,
           "28 100 Grande Pointe Meadows Boulevard, Grande Pointe, Manitoba",
           2,
           2
          ],
          [
           169500,
           "3 1525 Chancellor Drive, Winnipeg, Manitoba",
           1,
           1
          ],
          [
           259900,
           "471 Polson Avenue, Winnipeg, Manitoba",
           4,
           2
          ],
          [
           419900,
           "152 Garfield Street, Winnipeg, Manitoba",
           3,
           1
          ],
          [
           629900,
           "124 Mulberry Creek Drive, Winnipeg, Manitoba",
           4,
           3
          ],
          [
           509900,
           "42 Robert Blaikie Place, Winnipeg, Manitoba",
           4,
           4
          ],
          [
           769900,
           "4 Heatherdale Road, Lorette, Manitoba",
           3,
           2
          ],
          [
           219900,
           "1103 55 Nassau Street N, Winnipeg, Manitoba",
           2,
           1
          ],
          [
           699900,
           "780 McPhillips Street, Winnipeg, Manitoba",
           8,
           3
          ],
          [
           579900,
           "39 Denman Crescent, Winnipeg, Manitoba",
           6,
           3
          ],
          [
           149900,
           "1 433 Redwood Avenue, Winnipeg, Manitoba",
           3,
           2
          ],
          [
           264900,
           "136 Riley Crescent, Winnipeg, Manitoba",
           3,
           2
          ],
          [
           609900,
           "462 Rosedale Avenue, Winnipeg, Manitoba",
           5,
           4
          ],
          [
           609900,
           "464 Rosedale Avenue, Winnipeg, Manitoba",
           5,
           4
          ],
          [
           149900,
           "624 Magnan Street, Winnipeg, Manitoba",
           0,
           0
          ],
          [
           609900,
           "53 Liba Way, Winnipeg, Manitoba",
           3,
           2
          ],
          [
           338800,
           "290 Eugenie Street, Winnipeg, Manitoba",
           4,
           1
          ],
          [
           529900,
           "1605 323 Wellington Crescent, Winnipeg, Manitoba",
           2,
           2
          ],
          [
           314900,
           "1130 Southwood Avenue, Winnipeg, Manitoba",
           3,
           1
          ],
          [
           524900,
           "72 Saddle Creek Cove, Winnipeg, Manitoba",
           3,
           3
          ],
          [
           1175000,
           "7850 ROBLIN Boulevard, Headingley, Manitoba",
           5,
           3
          ],
          [
           949900,
           "92 Berry Hill Road, Winnipeg, Manitoba",
           4,
           3
          ],
          [
           374900,
           "1419 Mars Drive, Winnipeg, Manitoba",
           3,
           2
          ],
          [
           484900,
           "292 Ash Street, Winnipeg, Manitoba",
           3,
           1
          ],
          [
           69900,
           "177 Selkirk Avenue, Winnipeg, Manitoba",
           0,
           0
          ],
          [
           795000,
           "34 Firestone Drive, Winnipeg, Manitoba",
           3,
           3
          ],
          [
           563500,
           "120 MULBERRY CREEK Drive, Winnipeg, Manitoba",
           3,
           2
          ],
          [
           599900,
           "1039 Edderton Avenue, Winnipeg, Manitoba",
           5,
           4
          ],
          [
           614900,
           "151 Stranmillis Avenue, Winnipeg, Manitoba",
           5,
           4
          ],
          [
           999900,
           "3175 Vialoux Drive, Winnipeg, Manitoba",
           3,
           4
          ],
          [
           269900,
           "60 Carmen Avenue, Winnipeg, Manitoba",
           2,
           2
          ],
          [
           619900,
           "127 Kingsclear Drive, Winnipeg, Manitoba",
           4,
           3
          ],
          [
           959400,
           "7 Karschuk Bay, Winnipeg, Manitoba",
           4,
           3
          ],
          [
           594900,
           "18 Somerset Cove, Oakbank, Manitoba",
           3,
           2
          ],
          [
           349900,
           "140 Woodhaven Boulevard, Winnipeg, Manitoba",
           3,
           2
          ],
          [
           614900,
           "149 Stranmillis Avenue, Winnipeg, Manitoba",
           5,
           4
          ],
          [
           459900,
           "223 BELL GARDENS Cove, Winnipeg, Manitoba",
           3,
           3
          ],
          [
           127444,
           "511 Whittier Avenue E, Winnipeg, Manitoba",
           2,
           1
          ],
          [
           399900,
           "390 Dalhousie Drive, Winnipeg, Manitoba",
           3,
           2
          ],
          [
           369900,
           "176 Kitson Street, Winnipeg, Manitoba",
           4,
           3
          ],
          [
           164900,
           "10 138 Regis Drive, Winnipeg, Manitoba",
           1,
           1
          ],
          [
           539900,
           "319 Country Club Boulevard, Winnipeg, Manitoba",
           4,
           3
          ],
          [
           189900,
           "6 1422 Dakota Street, Winnipeg, Manitoba",
           2,
           1
          ],
          [
           539900,
           "585 Niagara Street, Winnipeg, Manitoba",
           4,
           2
          ],
          [
           579900,
           "15 Becontree Bay, Winnipeg, Manitoba",
           4,
           3
          ],
          [
           539900,
           "199 Kingfisher Crescent, Winnipeg, Manitoba",
           4,
           3
          ],
          [
           249900,
           "29 Walden Crescent, Winnipeg, Manitoba",
           2,
           1
          ],
          [
           374900,
           "115 Nemy Crescent, Winnipeg, Manitoba",
           3,
           3
          ],
          [
           434900,
           "1237 Fairfield Avenue, Winnipeg, Manitoba",
           0,
           0
          ],
          [
           399900,
           "127 Barron Drive, Winnipeg, Manitoba",
           4,
           2
          ],
          [
           169900,
           "407 Pritchard Avenue, Winnipeg, Manitoba",
           6,
           2
          ],
          [
           535000,
           "264 Cherrywood Road, Winnipeg, Manitoba",
           3,
           3
          ],
          [
           249900,
           "516 Kylemore Avenue, Winnipeg, Manitoba",
           3,
           1
          ],
          [
           59900,
           "582 Manitoba Avenue, Winnipeg, Manitoba",
           0,
           0
          ],
          [
           469900,
           "43 Fordham Bay, Winnipeg, Manitoba",
           4,
           3
          ],
          [
           4790000,
           "12 Ruskin Row, Winnipeg, Manitoba",
           7,
           7
          ],
          [
           629000,
           "289 Ravensden Drive, Winnipeg, Manitoba",
           4,
           4
          ],
          [
           415000,
           "136 Bell Gardens Cove, Winnipeg, Manitoba",
           3,
           3
          ],
          [
           928032,
           "10 Longview Lane, Oak Bluff, Manitoba",
           3,
           2
          ],
          [
           569900,
           "51 Eastfield Court, Winnipeg, Manitoba",
           4,
           3
          ],
          [
           549900,
           "25 Hughes Crescent, Winnipeg, Manitoba",
           3,
           3
          ],
          [
           349900,
           "36 Westdale Place, Winnipeg, Manitoba",
           3,
           3
          ],
          [
           99900,
           "245 Harbison Avenue, Winnipeg, Manitoba",
           2,
           1
          ],
          [
           509900,
           "95 Big Bluestem Road, Winnipeg, Manitoba",
           3,
           2
          ],
          [
           525000,
           "4 Jette Cove, Winnipeg, Manitoba",
           3,
           3
          ],
          [
           234900,
           "128 Hart Avenue, Winnipeg, Manitoba",
           2,
           1
          ],
          [
           419900,
           "225 Hammond Road, Winnipeg, Manitoba",
           3,
           2
          ],
          [
           379900,
           "288 Langside Street, Winnipeg, Manitoba",
           0,
           null
          ],
          [
           699900,
           "103 Big Bluestem Road, Winnipeg, Manitoba",
           5,
           3
          ],
          [
           592331,
           "113 Private Davy Drive, Winnipeg, Manitoba",
           4,
           3
          ],
          [
           644201,
           "114 Jim Gauthier Drive, Winnipeg, Manitoba",
           4,
           3
          ],
          [
           564795,
           "150 Jim Gauthier Drive, Winnipeg, Manitoba",
           4,
           3
          ],
          [
           264900,
           "101 760 Tache Avenue, Winnipeg, Manitoba",
           1,
           1
          ],
          [
           184900,
           "314 32 Novavista Drive, Winnipeg, Manitoba",
           2,
           2
          ],
          [
           439900,
           "232 Chalfont Road, Winnipeg, Manitoba",
           3,
           3
          ],
          [
           213900,
           "209 540 Waterfront Drive, Winnipeg, Manitoba",
           1,
           1
          ],
          [
           299900,
           "361 Machray Avenue, Winnipeg, Manitoba",
           4,
           2
          ],
          [
           1275000,
           "318 Beaverbrook Street, Winnipeg, Manitoba",
           4,
           4
          ],
          [
           465000,
           "27 Allard Avenue, Winnipeg, Manitoba",
           4,
           3
          ],
          [
           484900,
           "251 Emberwell Street, Winnipeg, Manitoba",
           3,
           3
          ],
          [
           290000,
           "718 Stella Avenue, Winnipeg, Manitoba",
           4,
           3
          ],
          [
           779900,
           "208 Oak Street, Winnipeg, Manitoba",
           5,
           3
          ],
          [
           349900,
           "203 1000 Aldgate Road, Winnipeg, Manitoba",
           3,
           3
          ],
          [
           339900,
           "303 185 Peguis Street, Winnipeg, Manitoba",
           2,
           1
          ],
          [
           259900,
           "647 Home Street, Winnipeg, Manitoba",
           4,
           2
          ],
          [
           369900,
           "383 Riel Avenue, Winnipeg, Manitoba",
           2,
           2
          ],
          [
           299900,
           "315 Conway Street, Winnipeg, Manitoba",
           2,
           1
          ],
          [
           539900,
           "52 Art Miki Way, Winnipeg, Manitoba",
           5,
           3
          ],
          [
           213500,
           "10G 1975 Corydon Avenue, Winnipeg, Manitoba",
           3,
           1
          ],
          [
           119900,
           "647 Nairn Avenue, Winnipeg, Manitoba",
           1,
           1
          ],
          [
           199900,
           "408 175 Pulberry Street, Winnipeg, Manitoba",
           2,
           1
          ],
          [
           585000,
           "655 Hilton Street, Winnipeg, Manitoba",
           3,
           3
          ],
          [
           249900,
           "229 Inglewood Street, Winnipeg, Manitoba",
           4,
           1
          ],
          [
           349900,
           "502 Sherbrook Street, Winnipeg, Manitoba",
           4,
           4
          ],
          [
           574900,
           "390 Park West Drive, Winnipeg, Manitoba",
           3,
           4
          ],
          [
           167900,
           "191 Chalmers Avenue, Winnipeg, Manitoba",
           4,
           1
          ],
          [
           224900,
           "536 Prosper Street, Winnipeg, Manitoba",
           2,
           1
          ],
          [
           264900,
           "418 Brandon Avenue, Winnipeg, Manitoba",
           2,
           2
          ],
          [
           189900,
           "1519 Alexander Avenue, Winnipeg, Manitoba",
           2,
           1
          ],
          [
           189900,
           "835 Ingersoll Street, Winnipeg, Manitoba",
           3,
           3
          ],
          [
           289900,
           "1075 Clifton Street, Winnipeg, Manitoba",
           4,
           1
          ],
          [
           209800,
           "840 Ashburn Street, Winnipeg, Manitoba",
           2,
           1
          ],
          [
           379900,
           "1058 Mulvey Avenue, Winnipeg, Manitoba",
           4,
           1
          ],
          [
           379900,
           "810 Hector Avenue, Winnipeg, Manitoba",
           3,
           2
          ],
          [
           629900,
           "104 Fieldhouse Way, Winnipeg, Manitoba",
           4,
           4
          ],
          [
           1850000,
           "350 EAGLE Drive, Rosser, Manitoba",
           0,
           null
          ],
          [
           299000,
           "16 Havelock Avenue, Winnipeg, Manitoba",
           3,
           1
          ],
          [
           327900,
           "502 50 Morning Star Lane, Winnipeg, Manitoba",
           2,
           2
          ],
          [
           439900,
           "88 Orum Drive, Winnipeg, Manitoba",
           4,
           4
          ],
          [
           674900,
           "3 600 Dovercourt Drive, Winnipeg, Manitoba",
           3,
           3
          ],
          [
           190000,
           "246 Wynford Drive, Winnipeg, Manitoba",
           3,
           1
          ],
          [
           359900,
           "191 Windham Road, Winnipeg, Manitoba",
           3,
           2
          ],
          [
           259900,
           "92 Noble Avenue, Winnipeg, Manitoba",
           3,
           2
          ],
          [
           299900,
           "387 Conway Street, Winnipeg, Manitoba",
           3,
           1
          ],
          [
           184900,
           "308 919 Chancellor Drive, Winnipeg, Manitoba",
           1,
           1
          ],
          [
           229900,
           "1500 Pacific Avenue W, Winnipeg, Manitoba",
           3,
           1
          ],
          [
           174900,
           "1109 15 Kennedy Street, Winnipeg, Manitoba",
           2,
           1
          ],
          [
           164900,
           "108 180 Grassie Boulevard, Winnipeg, Manitoba",
           1,
           1
          ],
          [
           494900,
           "247 Emberwell Street, Winnipeg, Manitoba",
           3,
           3
          ],
          [
           339900,
           "12 St George Road, Winnipeg, Manitoba",
           3,
           2
          ],
          [
           289900,
           "415 139 Market Avenue, Winnipeg, Manitoba",
           1,
           1
          ],
          [
           259900,
           "344 Morley Avenue, Winnipeg, Manitoba",
           3,
           2
          ],
          [
           439900,
           "460 Almey Avenue, Winnipeg, Manitoba",
           3,
           2
          ],
          [
           569900,
           "743 McMillan Avenue, Winnipeg, Manitoba",
           5,
           4
          ],
          [
           39900,
           "456 Elgin Avenue, Winnipeg, Manitoba",
           5,
           2
          ],
          [
           99999,
           "591 Selkirk Avenue, Winnipeg, Manitoba",
           0,
           0
          ],
          [
           1300000,
           "785 Main Street, Winnipeg, Manitoba",
           0,
           null
          ],
          [
           639900,
           "1400 Lee Boulevard, Winnipeg, Manitoba",
           5,
           4
          ],
          [
           184900,
           "386 Jamison Avenue, Winnipeg, Manitoba",
           2,
           1
          ],
          [
           429900,
           "15 Watson Crescent, Winnipeg, Manitoba",
           3,
           2
          ],
          [
           164900,
           "202 1460 Portage Avenue, Winnipeg, Manitoba",
           2,
           1
          ],
          [
           329900,
           "90 HINDLEY Avenue, Winnipeg, Manitoba",
           2,
           1
          ],
          [
           339900,
           "243 Inkster Boulevard, Winnipeg, Manitoba",
           4,
           3
          ],
          [
           449900,
           "66 Arden Avenue, Winnipeg, Manitoba",
           5,
           3
          ],
          [
           699900,
           "66 Springwater Road, Winnipeg, Manitoba",
           4,
           3
          ],
          [
           179900,
           "510 1030 Grant Avenue, Winnipeg, Manitoba",
           1,
           1
          ],
          [
           789900,
           "709 Muriel Street, Winnipeg, Manitoba",
           5,
           3
          ],
          [
           449900,
           "74 Miravale Avenue, Winnipeg, Manitoba",
           3,
           3
          ],
          [
           330000,
           "376 Cairnsmore Street, Winnipeg, Manitoba",
           6,
           2
          ],
          [
           299900,
           "170 Windham Road, Winnipeg, Manitoba",
           4,
           2
          ],
          [
           369900,
           "502 90 Bole Street, Winnipeg, Manitoba",
           2,
           2
          ],
          [
           199900,
           "906 99 Wellington Crescent, Winnipeg, Manitoba",
           1,
           1
          ],
          [
           449900,
           "A 298 Fairhaven Road, Winnipeg, Manitoba",
           3,
           3
          ],
          [
           209900,
           "479 Garlies Street, Winnipeg, Manitoba",
           2,
           1
          ],
          [
           399900,
           "352 Rosedale Avenue, Winnipeg, Manitoba",
           3,
           2
          ],
          [
           329900,
           "25 341 Westwood Drive, Winnipeg, Manitoba",
           3,
           2
          ],
          [
           414900,
           "807 1355 Lee Boulevard, Winnipeg, Manitoba",
           5,
           4
          ],
          [
           829900,
           "11 Goodridge Close, Oak Bluff, Manitoba",
           4,
           3
          ],
          [
           579900,
           "981 Weatherdon Avenue, Winnipeg, Manitoba",
           5,
           2
          ],
          [
           209900,
           "556 Linden Avenue, Winnipeg, Manitoba",
           3,
           1
          ],
          [
           479900,
           "829 De La Seigneurie Boulevard, Winnipeg, Manitoba",
           3,
           3
          ],
          [
           829900,
           "874 Crescent Drive, Winnipeg, Manitoba",
           3,
           2
          ],
          [
           214900,
           "C 1220 Lorette Avenue, Winnipeg, Manitoba",
           2,
           1
          ],
          [
           69900,
           "486 Selkirk Avenue, Winnipeg, Manitoba",
           0,
           null
          ],
          [
           89900,
           "86 Lorne Avenue, Winnipeg, Manitoba",
           7,
           3
          ],
          [
           299900,
           "427 Magnus Avenue, Winnipeg, Manitoba",
           4,
           2
          ],
          [
           179900,
           "104 Lisgar Avenue, Winnipeg, Manitoba",
           0,
           null
          ],
          [
           238900,
           "4 1530 Grant Avenue, Winnipeg, Manitoba",
           1,
           2
          ],
          [
           249900,
           "529 Doucet Street, Winnipeg, Manitoba",
           3,
           2
          ],
          [
           274900,
           "832 McDermot Avenue, Winnipeg, Manitoba",
           4,
           2
          ],
          [
           329900,
           "74 Whiteway Road, Winnipeg, Manitoba",
           3,
           2
          ],
          [
           275000,
           "307 311 Hargrave Street, Winnipeg, Manitoba",
           2,
           2
          ],
          [
           759900,
           "412 Grande Pointe Meadows Boulevard, Grande Pointe, Manitoba",
           3,
           3
          ],
          [
           429900,
           "31 700 Dovercourt Drive, Winnipeg, Manitoba",
           2,
           3
          ],
          [
           382500,
           "181 Clubhouse Drive, Lorette, Manitoba",
           3,
           3
          ],
          [
           384900,
           "185 Clubhouse Drive, Lorette, Manitoba",
           3,
           3
          ],
          [
           479900,
           "1405 390 Assiniboine Avenue, Winnipeg, Manitoba",
           2,
           2
          ],
          [
           265000,
           "217 240 Fairhaven Road, Winnipeg, Manitoba",
           2,
           1
          ],
          [
           149900,
           "308 Melrose Avenue W, Winnipeg, Manitoba",
           2,
           1
          ],
          [
           578200,
           "22 Gottfried Point, Winnipeg, Manitoba",
           4,
           3
          ],
          [
           379990,
           "35 Sandralin Bay, Winnipeg, Manitoba",
           4,
           2
          ],
          [
           289900,
           "73 Inman Avenue, Winnipeg, Manitoba",
           2,
           1
          ],
          [
           239900,
           "188 Lindsay Street, Winnipeg, Manitoba",
           3,
           2
          ],
          [
           179900,
           "382 Elgin Avenue, Winnipeg, Manitoba",
           0,
           null
          ],
          [
           414900,
           "70 Temple Bay, Winnipeg, Manitoba",
           4,
           2
          ],
          [
           310000,
           "107 80 Barnes Street, Winnipeg, Manitoba",
           2,
           2
          ],
          [
           224900,
           "3G 1975 Corydon Avenue, Winnipeg, Manitoba",
           2,
           2
          ],
          [
           549900,
           "1979 Elgin Avenue W, Winnipeg, Manitoba",
           5,
           4
          ],
          [
           125000,
           "441 Anderson Avenue, Winnipeg, Manitoba",
           4,
           2
          ],
          [
           259999,
           "711 Ashburn Street, Winnipeg, Manitoba",
           4,
           1
          ],
          [
           399900,
           "656 Pasadena Avenue, Winnipeg, Manitoba",
           5,
           2
          ],
          [
           239900,
           "C 171 Beliveau Road, Winnipeg, Manitoba",
           2,
           3
          ],
          [
           249900,
           "870 Garfield Street N, Winnipeg, Manitoba",
           2,
           2
          ],
          [
           279900,
           "244 St Anthony Avenue, Winnipeg, Manitoba",
           3,
           2
          ],
          [
           729900,
           "19 Lloyd Mckinnon Way, Winnipeg, Manitoba",
           3,
           3
          ],
          [
           249900,
           "360 Church Avenue, Winnipeg, Manitoba",
           0,
           null
          ],
          [
           279000,
           "639 Toronto Street, Winnipeg, Manitoba",
           4,
           2
          ],
          [
           699900,
           "10 Kilberry Crescent, Headingley, Manitoba",
           3,
           2
          ],
          [
           339900,
           "992 Hector Avenue, Winnipeg, Manitoba",
           2,
           1
          ],
          [
           139900,
           "120 Rosseau Avenue W, Winnipeg, Manitoba",
           3,
           1
          ],
          [
           209900,
           "411 Atlantic Avenue, Winnipeg, Manitoba",
           2,
           1
          ],
          [
           454900,
           "164 Alcrest Drive, Winnipeg, Manitoba",
           3,
           2
          ],
          [
           489900,
           "599 Community Row, Winnipeg, Manitoba",
           2,
           2
          ],
          [
           129900,
           "681 Magnus Avenue, Winnipeg, Manitoba",
           3,
           1
          ],
          [
           449900,
           "58 Twintree Way, Winnipeg, Manitoba",
           3,
           3
          ],
          [
           675000,
           "39 Poplar Point, Winnipeg, Manitoba",
           4,
           4
          ],
          [
           349900,
           "51 Gallagher Avenue W, Winnipeg, Manitoba",
           4,
           2
          ],
          [
           169900,
           "320 36 Novavista Drive, Winnipeg, Manitoba",
           2,
           1
          ],
          [
           668000,
           "326 Bridge Lake Drive, Winnipeg, Manitoba",
           5,
           3
          ],
          [
           299900,
           "448 Paddington Road, Winnipeg, Manitoba",
           3,
           2
          ],
          [
           724000,
           "808 Niagara Street, Winnipeg, Manitoba",
           3,
           4
          ],
          [
           329900,
           "516 McAdam Avenue, Winnipeg, Manitoba",
           0,
           0
          ],
          [
           179900,
           "462 Arlington Street, Winnipeg, Manitoba",
           0,
           0
          ],
          [
           699900,
           "52087 MUN 30E Road, Dufresne, Manitoba",
           2,
           2
          ],
          [
           174900,
           "502 Atlantic Avenue, Winnipeg, Manitoba",
           3,
           1
          ],
          [
           269900,
           "122 140 Portsmouth Boulevard, Winnipeg, Manitoba",
           2,
           1
          ],
          [
           589900,
           "36 Snowy Owl Crescent, Winnipeg, Manitoba",
           3,
           3
          ],
          [
           499000,
           "39 Rowntree Avenue, Winnipeg, Manitoba",
           3,
           3
          ],
          [
           399900,
           "1401 1960 St Mary's Road, Winnipeg, Manitoba",
           2,
           2
          ],
          [
           374900,
           "38 Maybank Drive, Winnipeg, Manitoba",
           3,
           2
          ],
          [
           1156400,
           "11 Siddiqui Ridge, Winnipeg, Manitoba",
           4,
           3
          ],
          [
           239900,
           "115 500 Cathcart Street, Winnipeg, Manitoba",
           2,
           2
          ],
          [
           185900,
           "529 Jamison Avenue, Winnipeg, Manitoba",
           2,
           1
          ],
          [
           399900,
           "412 Hampton Street, Winnipeg, Manitoba",
           3,
           2
          ],
          [
           675000,
           "201 Furby Street, Winnipeg, Manitoba",
           0,
           null
          ],
          [
           119900,
           "30 330 Carriage Road, Winnipeg, Manitoba",
           1,
           1
          ],
          [
           649900,
           "75 Mulberry Creek Drive, Winnipeg, Manitoba",
           4,
           3
          ],
          [
           4600000,
           "Road 53 North (between Brady Road and LaSalle Road), Oak Bluff, Manitoba",
           null,
           null
          ],
          [
           3400000,
           "9079 MB-100 (east of LaSalle Road), Oak Bluff, Manitoba",
           null,
           null
          ],
          [
           165900,
           "4312 C 120 Plaza Drive, Winnipeg, Manitoba",
           1,
           1
          ],
          [
           299900,
           "203 255 Wellington Crescent, Winnipeg, Manitoba",
           2,
           2
          ],
          [
           649900,
           "804 Victor Street, Winnipeg, Manitoba",
           0,
           null
          ],
          [
           329900,
           "66 Tunbridge Bay, Winnipeg, Manitoba",
           3,
           2
          ],
          [
           159900,
           "203 740 Kenaston Boulevard, Winnipeg, Manitoba",
           2,
           1
          ],
          [
           619900,
           "109 Merkel Manza Boulevard, Winnipeg, Manitoba",
           3,
           3
          ],
          [
           219900,
           "10 1660 St Mary's Road, Winnipeg, Manitoba",
           3,
           1
          ],
          [
           339900,
           "81 River Ridge Drive, Lorette, Manitoba",
           2,
           1
          ],
          [
           269900,
           "2 191 Hamilton Avenue, Winnipeg, Manitoba",
           2,
           3
          ],
          [
           329900,
           "665 Hamilton Avenue, Winnipeg, Manitoba",
           4,
           2
          ],
          [
           629000,
           "256 Crestmont Drive, Winnipeg, Manitoba",
           4,
           3
          ],
          [
           274900,
           "513 340 Waterfront Drive, Winnipeg, Manitoba",
           2,
           1
          ],
          [
           625000,
           "28 lyric Lane, Winnipeg, Manitoba",
           3,
           3
          ],
          [
           499900,
           "121 Private Davy Drive, Winnipeg, Manitoba",
           3,
           2
          ],
          [
           1299999,
           "282 Calla Bay, Grande Pointe, Manitoba",
           5,
           4
          ],
          [
           204900,
           "1060 Ingersoll Street, Winnipeg, Manitoba",
           4,
           3
          ],
          [
           574900,
           "159 Appleford Gate, Winnipeg, Manitoba",
           3,
           3
          ],
          [
           849900,
           "55 Karschuk Bay, Winnipeg, Manitoba",
           3,
           3
          ],
          [
           209900,
           "400 Charles Street, Winnipeg, Manitoba",
           4,
           2
          ],
          [
           629900,
           "134 Morier Avenue, Winnipeg, Manitoba",
           5,
           4
          ],
          [
           629900,
           "132 Morier Avenue, Winnipeg, Manitoba",
           5,
           4
          ],
          [
           109900,
           "2 161 Cathedral Avenue, Winnipeg, Manitoba",
           1,
           1
          ],
          [
           54900,
           "739 Selkirk Avenue, Winnipeg, Manitoba",
           5,
           2
          ],
          [
           469900,
           "387 Kirkbridge Drive, Winnipeg, Manitoba",
           5,
           2
          ],
          [
           404900,
           "657 Oak Street, Winnipeg, Manitoba",
           4,
           2
          ],
          [
           199900,
           "450 Trent Avenue, Winnipeg, Manitoba",
           2,
           1
          ],
          [
           529900,
           "136 Chadwick Crescent, Winnipeg, Manitoba",
           4,
           3
          ],
          [
           625400,
           "97 McCrindle Bay, Winnipeg, Manitoba",
           3,
           3
          ],
          [
           1175000,
           "323 Duchek Drive, Grande Pointe, Manitoba",
           3,
           2
          ],
          [
           245000,
           "206 681 St. Anne's Road, Winnipeg, Manitoba",
           2,
           2
          ],
          [
           1245000,
           "174 Waverley Street, Winnipeg, Manitoba",
           3,
           4
          ],
          [
           509900,
           "14 Rod Black Crescent, Winnipeg, Manitoba",
           4,
           3
          ],
          [
           339900,
           "104 1505 Molson Street, Winnipeg, Manitoba",
           2,
           2
          ],
          [
           79900,
           "7 722 Maryland Street, Winnipeg, Manitoba",
           2,
           1
          ],
          [
           329900,
           "1445 Mars Drive, Winnipeg, Manitoba",
           3,
           3
          ],
          [
           249900,
           "110 775 Kimberly Avenue, Winnipeg, Manitoba",
           2,
           2
          ],
          [
           264900,
           "201 Berry Street, Winnipeg, Manitoba",
           2,
           2
          ],
          [
           299900,
           "255 Glenwood Crescent, Winnipeg, Manitoba",
           4,
           2
          ],
          [
           284900,
           "320 Lipton Street, Winnipeg, Manitoba",
           3,
           2
          ],
          [
           269900,
           "69 Harwood Crescent, Winnipeg, Manitoba",
           3,
           2
          ],
          [
           300000,
           "12 Bittersweet Bay, Winnipeg, Manitoba",
           4,
           2
          ],
          [
           849900,
           "38 Vestford Place, Winnipeg, Manitoba",
           4,
           4
          ],
          [
           279900,
           "42 Inman Avenue, Winnipeg, Manitoba",
           2,
           1
          ],
          [
           579900,
           "11 Treasure Cove, Winnipeg, Manitoba",
           3,
           3
          ],
          [
           299800,
           "207 99 Gerard Street, Winnipeg, Manitoba",
           2,
           2
          ],
          [
           199900,
           "409 155 Peguis Street, Winnipeg, Manitoba",
           1,
           1
          ],
          [
           390000,
           "402 Kirkfield Street, Winnipeg, Manitoba",
           4,
           2
          ],
          [
           149900,
           "324 Trent Avenue, Winnipeg, Manitoba",
           1,
           1
          ],
          [
           279900,
           "706 Parkhill Street, Winnipeg, Manitoba",
           3,
           1
          ],
          [
           559900,
           "363 Baltimore Road, Winnipeg, Manitoba",
           4,
           2
          ],
          [
           349000,
           "271 Elmhurst Road, Winnipeg, Manitoba",
           2,
           2
          ],
          [
           774900,
           "72 Casselman Crescent, Oak Bluff, Manitoba",
           3,
           4
          ],
          [
           699900,
           "57 Egerton Road, Winnipeg, Manitoba",
           3,
           2
          ],
          [
           325000,
           "98 Worthington Avenue, Winnipeg, Manitoba",
           3,
           2
          ],
          [
           439900,
           "607 Stradbrook Avenue, Winnipeg, Manitoba",
           2,
           2
          ],
          [
           299900,
           "461 William Newton Avenue, Winnipeg, Manitoba",
           3,
           2
          ],
          [
           249900,
           "100 Renfrew Street, Winnipeg, Manitoba",
           2,
           1
          ],
          [
           509900,
           "107 Wayfield Drive, Winnipeg, Manitoba",
           3,
           2
          ],
          [
           324900,
           "514 Oakview Avenue, Winnipeg, Manitoba",
           3,
           1
          ],
          [
           199900,
           "65 Grove Street, Winnipeg, Manitoba",
           3,
           2
          ],
          [
           199900,
           "319 Inglewood Street, Winnipeg, Manitoba",
           3,
           1
          ],
          [
           189900,
           "628 92 Quail Ridge Road, Winnipeg, Manitoba",
           2,
           1
          ],
          [
           309000,
           "209 775 Sterling Lyon Parkway, Winnipeg, Manitoba",
           2,
           1
          ],
          [
           324900,
           "4 Whitley Drive, Winnipeg, Manitoba",
           3,
           1
          ],
          [
           464900,
           "255 Emberwell Street, Winnipeg, Manitoba",
           3,
           3
          ],
          [
           399000,
           "1334 Somerville Avenue, Winnipeg, Manitoba",
           4,
           3
          ],
          [
           184900,
           "601 15 Kennedy Street, Winnipeg, Manitoba",
           2,
           1
          ],
          [
           474900,
           "82 Sablewood Road, Winnipeg, Manitoba",
           3,
           3
          ],
          [
           104900,
           "287 Redwood Avenue, Winnipeg, Manitoba",
           0,
           null
          ],
          [
           469000,
           "745 Silverstone Avenue, Winnipeg, Manitoba",
           6,
           3
          ],
          [
           699000,
           "18 Waldport Bay, Winnipeg, Manitoba",
           5,
           3
          ],
          [
           469000,
           "932 Dorchester Avenue, Winnipeg, Manitoba",
           5,
           4
          ],
          [
           449900,
           "108 Rochester Avenue, Winnipeg, Manitoba",
           5,
           3
          ],
          [
           329900,
           "856 Lemay Avenue, Winnipeg, Manitoba",
           4,
           2
          ],
          [
           249900,
           "396 Tweed Avenue, Winnipeg, Manitoba",
           3,
           1
          ],
          [
           299900,
           "138 Thom Avenue W, Winnipeg, Manitoba",
           4,
           2
          ],
          [
           484900,
           "18 Golden Eagle Drive, Winnipeg, Manitoba",
           5,
           3
          ],
          [
           239900,
           "200 Austin Street N, Winnipeg, Manitoba",
           5,
           2
          ],
          [
           116500,
           "11 406 Notre Dame Avenue, Winnipeg, Manitoba",
           2,
           1
          ],
          [
           639900,
           "77 Cox Boulevard, Winnipeg, Manitoba",
           4,
           3
          ],
          [
           114900,
           "851 Aberdeen Avenue, Winnipeg, Manitoba",
           3,
           1
          ],
          [
           369900,
           "87 St Vital Road, Winnipeg, Manitoba",
           3,
           2
          ],
          [
           399900,
           "27 Woodgreen Place, Winnipeg, Manitoba",
           3,
           2
          ],
          [
           469900,
           "186 El Tassi Drive, Winnipeg, Manitoba",
           3,
           3
          ],
          [
           269900,
           "863 Bannatyne Avenue, Winnipeg, Manitoba",
           3,
           2
          ],
          [
           134900,
           "379 Boyd Avenue, Winnipeg, Manitoba",
           4,
           1
          ],
          [
           489900,
           "251 Jacques Avenue, Winnipeg, Manitoba",
           4,
           3
          ],
          [
           169900,
           "376 Bannerman Avenue, Winnipeg, Manitoba",
           3,
           1
          ],
          [
           299900,
           "766 Harstone Road, Winnipeg, Manitoba",
           2,
           1
          ],
          [
           349900,
           "2 Cherry Crescent, Winnipeg, Manitoba",
           3,
           2
          ],
          [
           299900,
           "4 Ellen Louise Drive, Headingley, Manitoba",
           0,
           null
          ],
          [
           299900,
           "50 Long Point Bay, Winnipeg, Manitoba",
           3,
           2
          ],
          [
           495000,
           "124 Park West Drive, Winnipeg, Manitoba",
           3,
           3
          ],
          [
           479900,
           "28 Abbotsfield Drive, Winnipeg, Manitoba",
           4,
           3
          ],
          [
           439900,
           "242 Carpathia Road, Winnipeg, Manitoba",
           3,
           2
          ],
          [
           149900,
           "396 Boyd Avenue, Winnipeg, Manitoba",
           4,
           1
          ],
          [
           329900,
           "647 CATHEDRAL Avenue, Winnipeg, Manitoba",
           4,
           2
          ],
          [
           299900,
           "33 Garvie Walk, Winnipeg, Manitoba",
           3,
           2
          ],
          [
           239900,
           "309 240 Fairhaven Road, Winnipeg, Manitoba",
           2,
           1
          ],
          [
           419900,
           "968 Windermere Avenue, Winnipeg, Manitoba",
           3,
           3
          ],
          [
           500000,
           "0 Community Row, Winnipeg, Manitoba",
           0,
           0
          ],
          [
           589000,
           "2 eb claydon Road, Winnipeg, Manitoba",
           3,
           3
          ],
          [
           524900,
           "2 Twintree Way, Winnipeg, Manitoba",
           3,
           3
          ],
          [
           215000,
           "144 Arlington Street, Winnipeg, Manitoba",
           0,
           null
          ],
          [
           259900,
           "468 Langevin Street, Winnipeg, Manitoba",
           2,
           1
          ],
          [
           874900,
           "230 Laurel Ridge Drive, Winnipeg, Manitoba",
           5,
           4
          ],
          [
           819000,
           "136 Park Valley Road, Winnipeg, Manitoba",
           6,
           4
          ],
          [
           629900,
           "189 Centennial Street, Winnipeg, Manitoba",
           3,
           3
          ],
          [
           219900,
           "801 Spruce Street, Winnipeg, Manitoba",
           3,
           1
          ],
          [
           299900,
           "424 Thames Avenue, Winnipeg, Manitoba",
           2,
           2
          ],
          [
           619900,
           "178 Big Bluestem Road, Winnipeg, Manitoba",
           4,
           3
          ],
          [
           534900,
           "129 Kinlock Lane, Winnipeg, Manitoba",
           5,
           2
          ],
          [
           339900,
           "134 Clubhouse Drive, Lorette, Manitoba",
           2,
           1
          ],
          [
           649900,
           "6 Vogan's Run, Winnipeg, Manitoba",
           3,
           3
          ],
          [
           495000,
           "38 Lark Ridge Way, Winnipeg, Manitoba",
           4,
           4
          ],
          [
           489900,
           "136 Rochester Avenue, Winnipeg, Manitoba",
           4,
           3
          ],
          [
           209900,
           "208 Harvard Avenue W, Winnipeg, Manitoba",
           2,
           1
          ],
          [
           113900,
           "347 St. John's Avenue, Winnipeg, Manitoba",
           3,
           1
          ],
          [
           206800,
           "1712 70 plaza Drive, Winnipeg, Manitoba",
           2,
           2
          ],
          [
           340000,
           "41 Hunt Avenue, Winnipeg, Manitoba",
           3,
           2
          ],
          [
           274990,
           "638 Burrows Avenue, Winnipeg, Manitoba",
           4,
           3
          ],
          [
           89900,
           "710 Alexander Avenue, Winnipeg, Manitoba",
           0,
           0
          ],
          [
           216900,
           "304 3060 Pembina Highway, Winnipeg, Manitoba",
           2,
           1
          ],
          [
           1149900,
           "115 Creemans Crescent, Winnipeg, Manitoba",
           3,
           2
          ],
          [
           399900,
           "805 1355 Lee Boulevard, Winnipeg, Manitoba",
           3,
           3
          ],
          [
           715000,
           "34 Yasmin Ali Crescent, Winnipeg, Manitoba",
           4,
           3
          ],
          [
           264900,
           "106 545 Dale Boulevard, Winnipeg, Manitoba",
           2,
           1
          ],
          [
           549900,
           "95 Leeds Avenue, Winnipeg, Manitoba",
           5,
           2
          ],
          [
           749900,
           "2 Hunterbrook Road, Winnipeg, Manitoba",
           7,
           5
          ],
          [
           299000,
           "325 MEADOWOOD Drive, Winnipeg, Manitoba",
           4,
           2
          ],
          [
           259900,
           "928 Minto Street, Winnipeg, Manitoba",
           2,
           1
          ],
          [
           219900,
           "219 Inkster Boulevard, Winnipeg, Manitoba",
           2,
           1
          ],
          [
           259900,
           "426 Polson Avenue, Winnipeg, Manitoba",
           3,
           1
          ],
          [
           569900,
           "127 Burke Bay, Winnipeg, Manitoba",
           4,
           3
          ],
          [
           435000,
           "42 Budden Drive, Winnipeg, Manitoba",
           5,
           3
          ],
          [
           649900,
           "81 Thorncliff Bay, Winnipeg, Manitoba",
           4,
           3
          ],
          [
           799800,
           "20112 NIAKWA RD 58N Road, Springfield, Manitoba",
           4,
           2
          ],
          [
           299900,
           "774 Fleming Avenue, Winnipeg, Manitoba",
           2,
           1
          ],
          [
           149000,
           "425 Boyd Avenue, Winnipeg, Manitoba",
           4,
           1
          ],
          [
           264900,
           "1033 Kelsey Avenue, Winnipeg, Manitoba",
           2,
           1
          ],
          [
           209900,
           "142 Stephens Street, Winnipeg, Manitoba",
           5,
           2
          ],
          [
           220000,
           "907 Bond Street, Winnipeg, Manitoba",
           3,
           1
          ],
          [
           134900,
           "397 Aberdeen Avenue, Winnipeg, Manitoba",
           2,
           1
          ],
          [
           459900,
           "136 Bill Dance Drive, Winnipeg, Manitoba",
           3,
           3
          ],
          [
           454900,
           "98 100 Grande Pointe Meadows Boulevard, Grande Pointe, Manitoba",
           2,
           2
          ],
          [
           1329400,
           "6 Ammeter Bay, Headingley, Manitoba",
           3,
           4
          ],
          [
           525000,
           "518 Tyson Trail, Winnipeg, Manitoba",
           3,
           3
          ],
          [
           189900,
           "693 Flora Avenue, Winnipeg, Manitoba",
           0,
           null
          ],
          [
           489900,
           "50 Henday Bay, Winnipeg, Manitoba",
           3,
           3
          ],
          [
           499900,
           "27 4025 Roblin Boulevard, Winnipeg, Manitoba",
           3,
           3
          ],
          [
           699900,
           "47 Poplar Point, Winnipeg, Manitoba",
           6,
           4
          ],
          [
           449900,
           "88 Maryland Street, Winnipeg, Manitoba",
           0,
           null
          ],
          [
           194500,
           "644 Talbot Avenue, Winnipeg, Manitoba",
           2,
           1
          ],
          [
           479900,
           "425 Melrose Avenue, Winnipeg, Manitoba",
           3,
           3
          ],
          [
           269900,
           "556 Alexander Avenue, Winnipeg, Manitoba",
           0,
           null
          ],
          [
           374900,
           "608 50 Morning Star Lane, Winnipeg, Manitoba",
           2,
           2
          ],
          [
           997400,
           "7 Longview Lane, Oak Bluff, Manitoba",
           3,
           3
          ],
          [
           399900,
           "803 99 Shahi Street, Winnipeg, Manitoba",
           5,
           2
          ],
          [
           599900,
           "6 Shelby Cove, Winnipeg, Manitoba",
           4,
           3
          ],
          [
           179900,
           "330 Burrows Avenue, Winnipeg, Manitoba",
           2,
           1
          ],
          [
           214900,
           "520 3080 Pembina Highway, Winnipeg, Manitoba",
           2,
           1
          ],
          [
           334900,
           "1010 1305 Grant Avenue, Winnipeg, Manitoba",
           2,
           2
          ],
          [
           389800,
           "473 Mark Pearce Avenue, Winnipeg, Manitoba",
           4,
           2
          ],
          [
           393900,
           "59 Amelia Crescent, Winnipeg, Manitoba",
           4,
           2
          ],
          [
           439900,
           "365 Cordova Street, Winnipeg, Manitoba",
           2,
           2
          ],
          [
           199900,
           "12 1424 Dakota Street, Winnipeg, Manitoba",
           2,
           1
          ],
          [
           798900,
           "344 Turnbull Drive, Winnipeg, Manitoba",
           3,
           3
          ],
          [
           169900,
           "1328 Arlington Street, Winnipeg, Manitoba",
           4,
           2
          ],
          [
           184900,
           "798 Harbison Avenue E, Winnipeg, Manitoba",
           2,
           1
          ],
          [
           389900,
           "114 Strand Circle, Winnipeg, Manitoba",
           2,
           2
          ]
         ],
         "type": "scattermapbox"
        }
       ],
       "layout": {
        "height": 1000,
        "mapbox": {
         "center": {
          "lat": 49.8951,
          "lon": -97.1384
         },
         "style": "open-street-map",
         "zoom": 11
        },
        "margin": {
         "b": 20,
         "l": 20,
         "r": 20,
         "t": 20
        },
        "template": {
         "data": {
          "bar": [
           {
            "error_x": {
             "color": "#2a3f5f"
            },
            "error_y": {
             "color": "#2a3f5f"
            },
            "marker": {
             "line": {
              "color": "#E5ECF6",
              "width": 0.5
             },
             "pattern": {
              "fillmode": "overlay",
              "size": 10,
              "solidity": 0.2
             }
            },
            "type": "bar"
           }
          ],
          "barpolar": [
           {
            "marker": {
             "line": {
              "color": "#E5ECF6",
              "width": 0.5
             },
             "pattern": {
              "fillmode": "overlay",
              "size": 10,
              "solidity": 0.2
             }
            },
            "type": "barpolar"
           }
          ],
          "carpet": [
           {
            "aaxis": {
             "endlinecolor": "#2a3f5f",
             "gridcolor": "white",
             "linecolor": "white",
             "minorgridcolor": "white",
             "startlinecolor": "#2a3f5f"
            },
            "baxis": {
             "endlinecolor": "#2a3f5f",
             "gridcolor": "white",
             "linecolor": "white",
             "minorgridcolor": "white",
             "startlinecolor": "#2a3f5f"
            },
            "type": "carpet"
           }
          ],
          "choropleth": [
           {
            "colorbar": {
             "outlinewidth": 0,
             "ticks": ""
            },
            "type": "choropleth"
           }
          ],
          "contour": [
           {
            "colorbar": {
             "outlinewidth": 0,
             "ticks": ""
            },
            "colorscale": [
             [
              0,
              "#0d0887"
             ],
             [
              0.1111111111111111,
              "#46039f"
             ],
             [
              0.2222222222222222,
              "#7201a8"
             ],
             [
              0.3333333333333333,
              "#9c179e"
             ],
             [
              0.4444444444444444,
              "#bd3786"
             ],
             [
              0.5555555555555556,
              "#d8576b"
             ],
             [
              0.6666666666666666,
              "#ed7953"
             ],
             [
              0.7777777777777778,
              "#fb9f3a"
             ],
             [
              0.8888888888888888,
              "#fdca26"
             ],
             [
              1,
              "#f0f921"
             ]
            ],
            "type": "contour"
           }
          ],
          "contourcarpet": [
           {
            "colorbar": {
             "outlinewidth": 0,
             "ticks": ""
            },
            "type": "contourcarpet"
           }
          ],
          "heatmap": [
           {
            "colorbar": {
             "outlinewidth": 0,
             "ticks": ""
            },
            "colorscale": [
             [
              0,
              "#0d0887"
             ],
             [
              0.1111111111111111,
              "#46039f"
             ],
             [
              0.2222222222222222,
              "#7201a8"
             ],
             [
              0.3333333333333333,
              "#9c179e"
             ],
             [
              0.4444444444444444,
              "#bd3786"
             ],
             [
              0.5555555555555556,
              "#d8576b"
             ],
             [
              0.6666666666666666,
              "#ed7953"
             ],
             [
              0.7777777777777778,
              "#fb9f3a"
             ],
             [
              0.8888888888888888,
              "#fdca26"
             ],
             [
              1,
              "#f0f921"
             ]
            ],
            "type": "heatmap"
           }
          ],
          "heatmapgl": [
           {
            "colorbar": {
             "outlinewidth": 0,
             "ticks": ""
            },
            "colorscale": [
             [
              0,
              "#0d0887"
             ],
             [
              0.1111111111111111,
              "#46039f"
             ],
             [
              0.2222222222222222,
              "#7201a8"
             ],
             [
              0.3333333333333333,
              "#9c179e"
             ],
             [
              0.4444444444444444,
              "#bd3786"
             ],
             [
              0.5555555555555556,
              "#d8576b"
             ],
             [
              0.6666666666666666,
              "#ed7953"
             ],
             [
              0.7777777777777778,
              "#fb9f3a"
             ],
             [
              0.8888888888888888,
              "#fdca26"
             ],
             [
              1,
              "#f0f921"
             ]
            ],
            "type": "heatmapgl"
           }
          ],
          "histogram": [
           {
            "marker": {
             "pattern": {
              "fillmode": "overlay",
              "size": 10,
              "solidity": 0.2
             }
            },
            "type": "histogram"
           }
          ],
          "histogram2d": [
           {
            "colorbar": {
             "outlinewidth": 0,
             "ticks": ""
            },
            "colorscale": [
             [
              0,
              "#0d0887"
             ],
             [
              0.1111111111111111,
              "#46039f"
             ],
             [
              0.2222222222222222,
              "#7201a8"
             ],
             [
              0.3333333333333333,
              "#9c179e"
             ],
             [
              0.4444444444444444,
              "#bd3786"
             ],
             [
              0.5555555555555556,
              "#d8576b"
             ],
             [
              0.6666666666666666,
              "#ed7953"
             ],
             [
              0.7777777777777778,
              "#fb9f3a"
             ],
             [
              0.8888888888888888,
              "#fdca26"
             ],
             [
              1,
              "#f0f921"
             ]
            ],
            "type": "histogram2d"
           }
          ],
          "histogram2dcontour": [
           {
            "colorbar": {
             "outlinewidth": 0,
             "ticks": ""
            },
            "colorscale": [
             [
              0,
              "#0d0887"
             ],
             [
              0.1111111111111111,
              "#46039f"
             ],
             [
              0.2222222222222222,
              "#7201a8"
             ],
             [
              0.3333333333333333,
              "#9c179e"
             ],
             [
              0.4444444444444444,
              "#bd3786"
             ],
             [
              0.5555555555555556,
              "#d8576b"
             ],
             [
              0.6666666666666666,
              "#ed7953"
             ],
             [
              0.7777777777777778,
              "#fb9f3a"
             ],
             [
              0.8888888888888888,
              "#fdca26"
             ],
             [
              1,
              "#f0f921"
             ]
            ],
            "type": "histogram2dcontour"
           }
          ],
          "mesh3d": [
           {
            "colorbar": {
             "outlinewidth": 0,
             "ticks": ""
            },
            "type": "mesh3d"
           }
          ],
          "parcoords": [
           {
            "line": {
             "colorbar": {
              "outlinewidth": 0,
              "ticks": ""
             }
            },
            "type": "parcoords"
           }
          ],
          "pie": [
           {
            "automargin": true,
            "type": "pie"
           }
          ],
          "scatter": [
           {
            "fillpattern": {
             "fillmode": "overlay",
             "size": 10,
             "solidity": 0.2
            },
            "type": "scatter"
           }
          ],
          "scatter3d": [
           {
            "line": {
             "colorbar": {
              "outlinewidth": 0,
              "ticks": ""
             }
            },
            "marker": {
             "colorbar": {
              "outlinewidth": 0,
              "ticks": ""
             }
            },
            "type": "scatter3d"
           }
          ],
          "scattercarpet": [
           {
            "marker": {
             "colorbar": {
              "outlinewidth": 0,
              "ticks": ""
             }
            },
            "type": "scattercarpet"
           }
          ],
          "scattergeo": [
           {
            "marker": {
             "colorbar": {
              "outlinewidth": 0,
              "ticks": ""
             }
            },
            "type": "scattergeo"
           }
          ],
          "scattergl": [
           {
            "marker": {
             "colorbar": {
              "outlinewidth": 0,
              "ticks": ""
             }
            },
            "type": "scattergl"
           }
          ],
          "scattermapbox": [
           {
            "marker": {
             "colorbar": {
              "outlinewidth": 0,
              "ticks": ""
             }
            },
            "type": "scattermapbox"
           }
          ],
          "scatterpolar": [
           {
            "marker": {
             "colorbar": {
              "outlinewidth": 0,
              "ticks": ""
             }
            },
            "type": "scatterpolar"
           }
          ],
          "scatterpolargl": [
           {
            "marker": {
             "colorbar": {
              "outlinewidth": 0,
              "ticks": ""
             }
            },
            "type": "scatterpolargl"
           }
          ],
          "scatterternary": [
           {
            "marker": {
             "colorbar": {
              "outlinewidth": 0,
              "ticks": ""
             }
            },
            "type": "scatterternary"
           }
          ],
          "surface": [
           {
            "colorbar": {
             "outlinewidth": 0,
             "ticks": ""
            },
            "colorscale": [
             [
              0,
              "#0d0887"
             ],
             [
              0.1111111111111111,
              "#46039f"
             ],
             [
              0.2222222222222222,
              "#7201a8"
             ],
             [
              0.3333333333333333,
              "#9c179e"
             ],
             [
              0.4444444444444444,
              "#bd3786"
             ],
             [
              0.5555555555555556,
              "#d8576b"
             ],
             [
              0.6666666666666666,
              "#ed7953"
             ],
             [
              0.7777777777777778,
              "#fb9f3a"
             ],
             [
              0.8888888888888888,
              "#fdca26"
             ],
             [
              1,
              "#f0f921"
             ]
            ],
            "type": "surface"
           }
          ],
          "table": [
           {
            "cells": {
             "fill": {
              "color": "#EBF0F8"
             },
             "line": {
              "color": "white"
             }
            },
            "header": {
             "fill": {
              "color": "#C8D4E3"
             },
             "line": {
              "color": "white"
             }
            },
            "type": "table"
           }
          ]
         },
         "layout": {
          "annotationdefaults": {
           "arrowcolor": "#2a3f5f",
           "arrowhead": 0,
           "arrowwidth": 1
          },
          "autotypenumbers": "strict",
          "coloraxis": {
           "colorbar": {
            "outlinewidth": 0,
            "ticks": ""
           }
          },
          "colorscale": {
           "diverging": [
            [
             0,
             "#8e0152"
            ],
            [
             0.1,
             "#c51b7d"
            ],
            [
             0.2,
             "#de77ae"
            ],
            [
             0.3,
             "#f1b6da"
            ],
            [
             0.4,
             "#fde0ef"
            ],
            [
             0.5,
             "#f7f7f7"
            ],
            [
             0.6,
             "#e6f5d0"
            ],
            [
             0.7,
             "#b8e186"
            ],
            [
             0.8,
             "#7fbc41"
            ],
            [
             0.9,
             "#4d9221"
            ],
            [
             1,
             "#276419"
            ]
           ],
           "sequential": [
            [
             0,
             "#0d0887"
            ],
            [
             0.1111111111111111,
             "#46039f"
            ],
            [
             0.2222222222222222,
             "#7201a8"
            ],
            [
             0.3333333333333333,
             "#9c179e"
            ],
            [
             0.4444444444444444,
             "#bd3786"
            ],
            [
             0.5555555555555556,
             "#d8576b"
            ],
            [
             0.6666666666666666,
             "#ed7953"
            ],
            [
             0.7777777777777778,
             "#fb9f3a"
            ],
            [
             0.8888888888888888,
             "#fdca26"
            ],
            [
             1,
             "#f0f921"
            ]
           ],
           "sequentialminus": [
            [
             0,
             "#0d0887"
            ],
            [
             0.1111111111111111,
             "#46039f"
            ],
            [
             0.2222222222222222,
             "#7201a8"
            ],
            [
             0.3333333333333333,
             "#9c179e"
            ],
            [
             0.4444444444444444,
             "#bd3786"
            ],
            [
             0.5555555555555556,
             "#d8576b"
            ],
            [
             0.6666666666666666,
             "#ed7953"
            ],
            [
             0.7777777777777778,
             "#fb9f3a"
            ],
            [
             0.8888888888888888,
             "#fdca26"
            ],
            [
             1,
             "#f0f921"
            ]
           ]
          },
          "colorway": [
           "#636efa",
           "#EF553B",
           "#00cc96",
           "#ab63fa",
           "#FFA15A",
           "#19d3f3",
           "#FF6692",
           "#B6E880",
           "#FF97FF",
           "#FECB52"
          ],
          "font": {
           "color": "#2a3f5f"
          },
          "geo": {
           "bgcolor": "white",
           "lakecolor": "white",
           "landcolor": "#E5ECF6",
           "showlakes": true,
           "showland": true,
           "subunitcolor": "white"
          },
          "hoverlabel": {
           "align": "left"
          },
          "hovermode": "closest",
          "mapbox": {
           "style": "light"
          },
          "paper_bgcolor": "white",
          "plot_bgcolor": "#E5ECF6",
          "polar": {
           "angularaxis": {
            "gridcolor": "white",
            "linecolor": "white",
            "ticks": ""
           },
           "bgcolor": "#E5ECF6",
           "radialaxis": {
            "gridcolor": "white",
            "linecolor": "white",
            "ticks": ""
           }
          },
          "scene": {
           "xaxis": {
            "backgroundcolor": "#E5ECF6",
            "gridcolor": "white",
            "gridwidth": 2,
            "linecolor": "white",
            "showbackground": true,
            "ticks": "",
            "zerolinecolor": "white"
           },
           "yaxis": {
            "backgroundcolor": "#E5ECF6",
            "gridcolor": "white",
            "gridwidth": 2,
            "linecolor": "white",
            "showbackground": true,
            "ticks": "",
            "zerolinecolor": "white"
           },
           "zaxis": {
            "backgroundcolor": "#E5ECF6",
            "gridcolor": "white",
            "gridwidth": 2,
            "linecolor": "white",
            "showbackground": true,
            "ticks": "",
            "zerolinecolor": "white"
           }
          },
          "shapedefaults": {
           "line": {
            "color": "#2a3f5f"
           }
          },
          "ternary": {
           "aaxis": {
            "gridcolor": "white",
            "linecolor": "white",
            "ticks": ""
           },
           "baxis": {
            "gridcolor": "white",
            "linecolor": "white",
            "ticks": ""
           },
           "bgcolor": "#E5ECF6",
           "caxis": {
            "gridcolor": "white",
            "linecolor": "white",
            "ticks": ""
           }
          },
          "title": {
           "x": 0.05
          },
          "xaxis": {
           "automargin": true,
           "gridcolor": "white",
           "linecolor": "white",
           "ticks": "",
           "title": {
            "standoff": 15
           },
           "zerolinecolor": "white",
           "zerolinewidth": 2
          },
          "yaxis": {
           "automargin": true,
           "gridcolor": "white",
           "linecolor": "white",
           "ticks": "",
           "title": {
            "standoff": 15
           },
           "zerolinecolor": "white",
           "zerolinewidth": 2
          }
         }
        },
        "width": 1200
       }
      }
     },
     "metadata": {},
     "output_type": "display_data"
    }
   ],
   "source": [
    "import pandas as pd\n",
    "import plotly.graph_objects as go\n",
    "\n",
    "\n",
    "# Eliminar filas con valores NaN en latitud o longitud\n",
    "df = df.dropna(subset=['Latitud', 'Longitud'])\n",
    "\n",
    "# Crear un gráfico de dispersión geográfica en Plotly\n",
    "fig = go.Figure(go.Scattermapbox(\n",
    "    lat=df['Latitud'],\n",
    "    lon=df['Longitud'],\n",
    "    mode='markers',\n",
    "    marker=dict(size=10, color='red', opacity=0.7),\n",
    "    text=df[[ 'price', 'location', 'bedrooms', 'bathrooms']],\n",
    "))\n",
    "\n",
    "fig.update_layout(\n",
    "    mapbox=dict(\n",
    "        style='open-street-map',  # Utiliza un estilo similar a OpenStreetMap\n",
    "        center=dict(lon=-97.1384, lat=49.8951),\n",
    "        zoom=11\n",
    "    ),\n",
    "    width=1200,  # Ancho del gráfico\n",
    "    height=1000  # Alto del gráfico\n",
    ")\n",
    "\n",
    "fig.update_layout(\n",
    "    margin=dict(l=20, r=20, t=20, b=20),\n",
    ")\n",
    "# Mostrar el gráfico interactivo\n",
    "fig.show()"
   ]
  },
  {
   "cell_type": "code",
   "execution_count": 9,
   "metadata": {},
   "outputs": [],
   "source": [
    "# from sklearn.cluster import KMeans\n",
    "\n",
    "# # Selecciona las columnas que se utilizarán para el agrupamiento\n",
    "# features = df[['price', 'bedrooms', 'bathrooms', 'Latitud', 'Longitud']]\n",
    "# features = features.dropna()\n",
    "\n",
    "# from sklearn.impute import SimpleImputer\n",
    "\n",
    "# imputer = SimpleImputer(strategy='mean')  # Puedes elegir la estrategia que desees (media, mediana, etc.)\n",
    "\n",
    "# features = imputer.fit_transform(features)\n",
    "\n",
    "# # Especifica el número de clusters que deseas\n",
    "# n_clusters = 3  # Puedes ajustar este valor según tus necesidades\n",
    "\n",
    "# # Crea un modelo de K-Means\n",
    "# kmeans = KMeans(n_clusters=n_clusters)\n",
    "\n",
    "# # Ajusta el modelo a tus datos y obtén las etiquetas de cluster\n",
    "# df['class'] = kmeans.fit_predict(features)\n"
   ]
  },
  {
   "cell_type": "code",
   "execution_count": 13,
   "metadata": {},
   "outputs": [
    {
     "ename": "KeyError",
     "evalue": "\"['Location_Este'] not in index\"",
     "output_type": "error",
     "traceback": [
      "\u001b[1;31m---------------------------------------------------------------------------\u001b[0m",
      "\u001b[1;31mKeyError\u001b[0m                                  Traceback (most recent call last)",
      "\u001b[1;32mc:\\Users\\Admin\\Desktop\\Portfolio\\Housing market\\Housing_market.ipynb Cell 6\u001b[0m line \u001b[0;36m1\n\u001b[0;32m     <a href='vscode-notebook-cell:/c%3A/Users/Admin/Desktop/Portfolio/Housing%20market/Housing_market.ipynb#W6sZmlsZQ%3D%3D?line=14'>15</a>\u001b[0m df \u001b[39m=\u001b[39m pd\u001b[39m.\u001b[39mget_dummies(df, columns\u001b[39m=\u001b[39m[\u001b[39m'\u001b[39m\u001b[39mLocation\u001b[39m\u001b[39m'\u001b[39m], drop_first\u001b[39m=\u001b[39m\u001b[39mTrue\u001b[39;00m)\n\u001b[0;32m     <a href='vscode-notebook-cell:/c%3A/Users/Admin/Desktop/Portfolio/Housing%20market/Housing_market.ipynb#W6sZmlsZQ%3D%3D?line=16'>17</a>\u001b[0m \u001b[39m# Aplicar un modelo de regresión lineal para calcular el precio hedónico\u001b[39;00m\n\u001b[1;32m---> <a href='vscode-notebook-cell:/c%3A/Users/Admin/Desktop/Portfolio/Housing%20market/Housing_market.ipynb#W6sZmlsZQ%3D%3D?line=17'>18</a>\u001b[0m X \u001b[39m=\u001b[39m df[[\u001b[39m'\u001b[39;49m\u001b[39mSize (sq. ft.)\u001b[39;49m\u001b[39m'\u001b[39;49m, \u001b[39m'\u001b[39;49m\u001b[39mBedrooms\u001b[39;49m\u001b[39m'\u001b[39;49m, \u001b[39m'\u001b[39;49m\u001b[39mLocation_Norte\u001b[39;49m\u001b[39m'\u001b[39;49m, \u001b[39m'\u001b[39;49m\u001b[39mLocation_Sur\u001b[39;49m\u001b[39m'\u001b[39;49m, \u001b[39m'\u001b[39;49m\u001b[39mLocation_Este\u001b[39;49m\u001b[39m'\u001b[39;49m, \u001b[39m'\u001b[39;49m\u001b[39mLocation_Oeste\u001b[39;49m\u001b[39m'\u001b[39;49m]]\n\u001b[0;32m     <a href='vscode-notebook-cell:/c%3A/Users/Admin/Desktop/Portfolio/Housing%20market/Housing_market.ipynb#W6sZmlsZQ%3D%3D?line=18'>19</a>\u001b[0m y \u001b[39m=\u001b[39m df[\u001b[39m'\u001b[39m\u001b[39mPrice ($)\u001b[39m\u001b[39m'\u001b[39m]\n\u001b[0;32m     <a href='vscode-notebook-cell:/c%3A/Users/Admin/Desktop/Portfolio/Housing%20market/Housing_market.ipynb#W6sZmlsZQ%3D%3D?line=20'>21</a>\u001b[0m model \u001b[39m=\u001b[39m LinearRegression()\n",
      "File \u001b[1;32m~\\AppData\\Local\\Packages\\PythonSoftwareFoundation.Python.3.11_qbz5n2kfra8p0\\LocalCache\\local-packages\\Python311\\site-packages\\pandas\\core\\frame.py:3767\u001b[0m, in \u001b[0;36mDataFrame.__getitem__\u001b[1;34m(self, key)\u001b[0m\n\u001b[0;32m   3765\u001b[0m     \u001b[39mif\u001b[39;00m is_iterator(key):\n\u001b[0;32m   3766\u001b[0m         key \u001b[39m=\u001b[39m \u001b[39mlist\u001b[39m(key)\n\u001b[1;32m-> 3767\u001b[0m     indexer \u001b[39m=\u001b[39m \u001b[39mself\u001b[39;49m\u001b[39m.\u001b[39;49mcolumns\u001b[39m.\u001b[39;49m_get_indexer_strict(key, \u001b[39m\"\u001b[39;49m\u001b[39mcolumns\u001b[39;49m\u001b[39m\"\u001b[39;49m)[\u001b[39m1\u001b[39m]\n\u001b[0;32m   3769\u001b[0m \u001b[39m# take() does not accept boolean indexers\u001b[39;00m\n\u001b[0;32m   3770\u001b[0m \u001b[39mif\u001b[39;00m \u001b[39mgetattr\u001b[39m(indexer, \u001b[39m\"\u001b[39m\u001b[39mdtype\u001b[39m\u001b[39m\"\u001b[39m, \u001b[39mNone\u001b[39;00m) \u001b[39m==\u001b[39m \u001b[39mbool\u001b[39m:\n",
      "File \u001b[1;32m~\\AppData\\Local\\Packages\\PythonSoftwareFoundation.Python.3.11_qbz5n2kfra8p0\\LocalCache\\local-packages\\Python311\\site-packages\\pandas\\core\\indexes\\base.py:5877\u001b[0m, in \u001b[0;36mIndex._get_indexer_strict\u001b[1;34m(self, key, axis_name)\u001b[0m\n\u001b[0;32m   5874\u001b[0m \u001b[39melse\u001b[39;00m:\n\u001b[0;32m   5875\u001b[0m     keyarr, indexer, new_indexer \u001b[39m=\u001b[39m \u001b[39mself\u001b[39m\u001b[39m.\u001b[39m_reindex_non_unique(keyarr)\n\u001b[1;32m-> 5877\u001b[0m \u001b[39mself\u001b[39;49m\u001b[39m.\u001b[39;49m_raise_if_missing(keyarr, indexer, axis_name)\n\u001b[0;32m   5879\u001b[0m keyarr \u001b[39m=\u001b[39m \u001b[39mself\u001b[39m\u001b[39m.\u001b[39mtake(indexer)\n\u001b[0;32m   5880\u001b[0m \u001b[39mif\u001b[39;00m \u001b[39misinstance\u001b[39m(key, Index):\n\u001b[0;32m   5881\u001b[0m     \u001b[39m# GH 42790 - Preserve name from an Index\u001b[39;00m\n",
      "File \u001b[1;32m~\\AppData\\Local\\Packages\\PythonSoftwareFoundation.Python.3.11_qbz5n2kfra8p0\\LocalCache\\local-packages\\Python311\\site-packages\\pandas\\core\\indexes\\base.py:5941\u001b[0m, in \u001b[0;36mIndex._raise_if_missing\u001b[1;34m(self, key, indexer, axis_name)\u001b[0m\n\u001b[0;32m   5938\u001b[0m     \u001b[39mraise\u001b[39;00m \u001b[39mKeyError\u001b[39;00m(\u001b[39mf\u001b[39m\u001b[39m\"\u001b[39m\u001b[39mNone of [\u001b[39m\u001b[39m{\u001b[39;00mkey\u001b[39m}\u001b[39;00m\u001b[39m] are in the [\u001b[39m\u001b[39m{\u001b[39;00maxis_name\u001b[39m}\u001b[39;00m\u001b[39m]\u001b[39m\u001b[39m\"\u001b[39m)\n\u001b[0;32m   5940\u001b[0m not_found \u001b[39m=\u001b[39m \u001b[39mlist\u001b[39m(ensure_index(key)[missing_mask\u001b[39m.\u001b[39mnonzero()[\u001b[39m0\u001b[39m]]\u001b[39m.\u001b[39munique())\n\u001b[1;32m-> 5941\u001b[0m \u001b[39mraise\u001b[39;00m \u001b[39mKeyError\u001b[39;00m(\u001b[39mf\u001b[39m\u001b[39m\"\u001b[39m\u001b[39m{\u001b[39;00mnot_found\u001b[39m}\u001b[39;00m\u001b[39m not in index\u001b[39m\u001b[39m\"\u001b[39m)\n",
      "\u001b[1;31mKeyError\u001b[0m: \"['Location_Este'] not in index\""
     ]
    }
   ],
   "source": [
    "import pandas as pd\n",
    "from sklearn.linear_model import LinearRegression\n",
    "\n",
    "# Crear un DataFrame con datos de ventas de viviendas\n",
    "data = {\n",
    "    'Size (sq. ft.)': [1500, 1800, 1200, 2000, 1600],\n",
    "    'Bedrooms': [3, 4, 2, 4, 3],\n",
    "    'Location': ['Norte', 'Sur', 'Sur', 'Este', 'Oeste'],\n",
    "    'Price ($)': [250000, 350000, 200000, 380000, 280000]\n",
    "}\n",
    "\n",
    "df = pd.DataFrame(data)\n",
    "\n",
    "# Crear variables ficticias (dummy variables) para la ubicación geográfica\n",
    "df = pd.get_dummies(df, columns=['Location'], drop_first=True)\n",
    "\n",
    "# Aplicar un modelo de regresión lineal para calcular el precio hedónico\n",
    "X = df[['Size (sq. ft.)', 'Bedrooms', 'Location_Norte', 'Location_Sur', 'Location_Este', 'Location_Oeste']]\n",
    "y = df['Price ($)']\n",
    "\n",
    "model = LinearRegression()\n",
    "model.fit(X, y)\n",
    "\n",
    "# Supongamos que queremos calcular el precio de una vivienda con los siguientes atributos\n",
    "new_data = {\n",
    "    'Size (sq. ft.)': [1700],\n",
    "    'Bedrooms': [3],\n",
    "    'Location_Norte': [1]  # Ubicado en el Norte\n",
    "}\n",
    "\n",
    "new_df = pd.DataFrame(new_data)\n",
    "\n",
    "# Realizar una predicción del precio hedónico\n",
    "predicted_price = model.predict(new_df)\n",
    "\n",
    "print(\"El precio hedónico estimado es:\", predicted_price[0])\n"
   ]
  }
 ],
 "metadata": {
  "kernelspec": {
   "display_name": "Python 3",
   "language": "python",
   "name": "python3"
  },
  "language_info": {
   "codemirror_mode": {
    "name": "ipython",
    "version": 3
   },
   "file_extension": ".py",
   "mimetype": "text/x-python",
   "name": "python",
   "nbconvert_exporter": "python",
   "pygments_lexer": "ipython3",
   "version": "3.11.4"
  }
 },
 "nbformat": 4,
 "nbformat_minor": 2
}
